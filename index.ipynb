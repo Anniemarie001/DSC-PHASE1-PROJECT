{
 "cells": [
  {
   "cell_type": "markdown",
   "metadata": {},
   "source": [
    "## Final Project Submission\n",
    "\n",
    "Please fill out:\n",
    "* Student name: Annah Mukethe\n",
    "* Student pace: Part Time\n",
    "* Instructor name: Samuel Mwangi\n"
   ]
  },
  {
   "cell_type": "markdown",
   "metadata": {},
   "source": [
    "## PROJECT DESCRIPTION ##"
   ]
  },
  {
   "cell_type": "markdown",
   "metadata": {},
   "source": [
    "**OVERVIEW**\n",
    "\n",
    "In this project, we aim to assist Microsoft in entering the movie industry by leveraging exploratory data analysis (EDA) to uncover trends and patterns in box office performance. By examining a comprehensive dataset of films, we will identify the characteristics of successful movies, providing actionable insights to guide Microsoft's new movie studio in producing content that resonates with audiences and performs well financially."
   ]
  },
  {
   "cell_type": "markdown",
   "metadata": {},
   "source": [
    "## BUSINESS UNDERSTANDING ##"
   ]
  },
  {
   "cell_type": "markdown",
   "metadata": {},
   "source": [
    "**BUSINESS PROBLEM**\n",
    "\n",
    "Microsoft, inspired by the success of major companies producing original video content, has decided to launch its own movie studio. However, with no prior experience in film production, Microsoft faces a significant challenge in understanding the dynamics of the movie industry. The goal is to explore the current film landscape, specifically focusing on what types of films are achieving the best box office results. By identifying key factors that contribute to a movie's success, Microsoft can make informed decisions about the types of films to produce, ensuring a competitive entry into the market.\n",
    "\n",
    "**OBJECTIVES**\n",
    "\n",
    "1. **Analyze Market Trends:** Identify the genres, themes, and characteristics of movies that are currently performing well.\n",
    "\n",
    "2. **Determine Key Success Factors:** Understand the elements that contribute to high performance, such as budget, runtime, release period, and critical reception.\n",
    "3. **Provide Actionable Insights:** Translate the findings into strategic recommendations for the types of films Microsoft should create to maximize their chances of success in the competitive movie industry."
   ]
  },
  {
   "cell_type": "markdown",
   "metadata": {},
   "source": [
    "## DATA UNDERSTANDING ##"
   ]
  },
  {
   "cell_type": "markdown",
   "metadata": {},
   "source": [
    "**DATA SOURCE**\n",
    "\n",
    "Data Source: IMDb (Internet Movie Database) dataset\n",
    "Justification: IMDb is a comprehensive and reliable source for movie data, including ratings, genres, and other relevant information."
   ]
  },
  {
   "cell_type": "markdown",
   "metadata": {},
   "source": [
    "**DATASET COLUMN DESCRIPTION**\n",
    "\n",
    "The Description is based on the columns resulted from merging two tables from the im.db."
   ]
  },
  {
   "cell_type": "markdown",
   "metadata": {},
   "source": [
    "\n",
    "**movie_id:** Unique identifier for each movie.\n",
    "\n",
    "**primary_title:** The main title of the movie.\n",
    "\n",
    "**original_title:** The original title of the movie in its native language.\n",
    "\n",
    "**start_year:** The year the movie was released.\n",
    "\n",
    "**runtime_minutes:** The duration of the movie in minutes.\n",
    "\n",
    "**genres:** The categories or genres the movie belongs to (e.g., Drama, Comedy).\n",
    "\n",
    "**averagerating:** The average rating given to the movie by viewers.\n",
    "\n",
    "**numvotes:** The number of votes the movie has received from viewers."
   ]
  }
 ],
 "metadata": {
  "kernelspec": {
   "display_name": "learn-env",
   "language": "python",
   "name": "python3"
  },
  "language_info": {
   "name": "python",
   "version": "3.8.5"
  }
 },
 "nbformat": 4,
 "nbformat_minor": 2
}
