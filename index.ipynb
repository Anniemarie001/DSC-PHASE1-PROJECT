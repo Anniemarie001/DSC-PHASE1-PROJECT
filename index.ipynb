{
 "cells": [
  {
   "cell_type": "markdown",
   "metadata": {},
   "source": [
    "## Final Project Submission\n",
    "\n",
    "Please fill out:\n",
    "* Student name: Annah Mukethe\n",
    "* Student pace: Part Time\n",
    "* Instructor name: Samuel Mwangi\n"
   ]
  },
  {
   "cell_type": "markdown",
   "metadata": {},
   "source": [
    "## PROJECT DESCRIPTION ##"
   ]
  },
  {
   "cell_type": "markdown",
   "metadata": {},
   "source": [
    "**OVERVIEW**\n",
    "\n",
    "In this project, we aim to assist Microsoft in entering the movie industry by leveraging exploratory data analysis (EDA) to uncover trends and patterns in box office performance. By examining a comprehensive dataset of films, we will identify the characteristics of successful movies, providing actionable insights to guide Microsoft's new movie studio in producing content that resonates with audiences and performs well financially."
   ]
  },
  {
   "cell_type": "markdown",
   "metadata": {},
   "source": [
    "## BUSINESS UNDERSTANDING ##"
   ]
  },
  {
   "cell_type": "markdown",
   "metadata": {},
   "source": [
    "**BUSINESS PROBLEM**\n",
    "\n",
    "Microsoft, inspired by the success of major companies producing original video content, has decided to launch its own movie studio. However, with no prior experience in film production, Microsoft faces a significant challenge in understanding the dynamics of the movie industry. The goal is to explore the current film landscape, specifically focusing on what types of films are achieving the best box office results. By identifying key factors that contribute to a movie's success, Microsoft can make informed decisions about the types of films to produce, ensuring a competitive entry into the market.\n",
    "\n",
    "**OBJECTIVES**\n",
    "\n",
    "1. **Analyze Market Trends:** Identify the genres, themes, and characteristics of movies that are currently performing well.\n",
    "\n",
    "2. **Determine Key Success Factors:** Understand the elements that contribute to high performance, such as budget, runtime, release period, and critical reception.\n",
    "3. **Provide Actionable Insights:** Translate the findings into strategic recommendations for the types of films Microsoft should create to maximize their chances of success in the competitive movie industry."
   ]
  },
  {
   "cell_type": "markdown",
   "metadata": {},
   "source": [
    "## DATA UNDERSTANDING ##"
   ]
  },
  {
   "cell_type": "markdown",
   "metadata": {},
   "source": [
    "**DATA SOURCE**\n",
    "\n",
    "Data Source: IMDb (Internet Movie Database) dataset\n",
    "Justification: IMDb is a comprehensive and reliable source for movie data, including ratings, genres, and other relevant information."
   ]
  },
  {
   "cell_type": "markdown",
   "metadata": {},
   "source": [
    "**DATASET COLUMN DESCRIPTION**\n",
    "\n",
    "The Description is based on the columns resulted from merging two tables from the im.db."
   ]
  },
  {
   "cell_type": "markdown",
   "metadata": {},
   "source": [
    "\n",
    "**movie_id:** Unique identifier for each movie.\n",
    "\n",
    "**primary_title:** The main title of the movie.\n",
    "\n",
    "**original_title:** The original title of the movie in its native language.\n",
    "\n",
    "**start_year:** The year the movie was released.\n",
    "\n",
    "**runtime_minutes:** The duration of the movie in minutes.\n",
    "\n",
    "**genres:** The categories or genres the movie belongs to (e.g., Drama, Comedy).\n",
    "\n",
    "**averagerating:** The average rating given to the movie by viewers.\n",
    "\n",
    "**numvotes:** The number of votes the movie has received from viewers."
   ]
  },
  {
   "cell_type": "markdown",
   "metadata": {},
   "source": [
    "**IMPORTING LIBRARIES**"
   ]
  },
  {
   "cell_type": "code",
   "execution_count": 1,
   "metadata": {},
   "outputs": [],
   "source": [
    "#importing necessary libraries\n",
    "import pandas as pd\n",
    "import numpy as np\n",
    "import matplotlib as plt\n",
    "import sqlite3 "
   ]
  },
  {
   "cell_type": "markdown",
   "metadata": {},
   "source": [
    "**DATABASE CONNECTION**"
   ]
  },
  {
   "cell_type": "code",
   "execution_count": 2,
   "metadata": {},
   "outputs": [],
   "source": [
    "conn = sqlite3.Connection(\"im.db\")\n",
    "cursor = conn.cursor()"
   ]
  },
  {
   "cell_type": "markdown",
   "metadata": {},
   "source": [
    "**SCHEMA INSPECTION**"
   ]
  },
  {
   "cell_type": "code",
   "execution_count": 3,
   "metadata": {},
   "outputs": [
    {
     "name": "stdout",
     "output_type": "stream",
     "text": [
      "\n",
      "Table: movie_basics\n",
      "Columns:\n",
      " - movie_id (Type: TEXT)\n",
      " - primary_title (Type: TEXT)\n",
      " - original_title (Type: TEXT)\n",
      " - start_year (Type: INTEGER)\n",
      " - runtime_minutes (Type: REAL)\n",
      " - genres (Type: TEXT)\n",
      "\n",
      "Table: directors\n",
      "Columns:\n",
      " - movie_id (Type: TEXT)\n",
      " - person_id (Type: TEXT)\n",
      "\n",
      "Table: known_for\n",
      "Columns:\n",
      " - person_id (Type: TEXT)\n",
      " - movie_id (Type: TEXT)\n",
      "\n",
      "Table: movie_akas\n",
      "Columns:\n",
      " - movie_id (Type: TEXT)\n",
      " - ordering (Type: INTEGER)\n",
      " - title (Type: TEXT)\n",
      " - region (Type: TEXT)\n",
      " - language (Type: TEXT)\n",
      " - types (Type: TEXT)\n",
      " - attributes (Type: TEXT)\n",
      " - is_original_title (Type: REAL)\n",
      "\n",
      "Table: movie_ratings\n",
      "Columns:\n",
      " - movie_id (Type: TEXT)\n",
      " - averagerating (Type: REAL)\n",
      " - numvotes (Type: INTEGER)\n",
      "\n",
      "Table: persons\n",
      "Columns:\n",
      " - person_id (Type: TEXT)\n",
      " - primary_name (Type: TEXT)\n",
      " - birth_year (Type: REAL)\n",
      " - death_year (Type: REAL)\n",
      " - primary_profession (Type: TEXT)\n",
      "\n",
      "Table: principals\n",
      "Columns:\n",
      " - movie_id (Type: TEXT)\n",
      " - ordering (Type: INTEGER)\n",
      " - person_id (Type: TEXT)\n",
      " - category (Type: TEXT)\n",
      " - job (Type: TEXT)\n",
      " - characters (Type: TEXT)\n",
      "\n",
      "Table: writers\n",
      "Columns:\n",
      " - movie_id (Type: TEXT)\n",
      " - person_id (Type: TEXT)\n"
     ]
    }
   ],
   "source": [
    "#checking the tables that are available in the database\n",
    "cursor.execute(\"SELECT name FROM sqlite_master WHERE type='table';\")\n",
    "tables = cursor.fetchall()\n",
    "\n",
    "for table in tables:\n",
    "    print(f\"\\nTable: {table[0]}\")\n",
    "    cursor.execute(f\"PRAGMA table_info({table[0]});\")\n",
    "    columns = cursor.fetchall()\n",
    "    print(\"Columns:\")\n",
    "    for column in columns:\n",
    "        print(f\" - {column[1]} (Type: {column[2]})\")"
   ]
  },
  {
   "cell_type": "markdown",
   "metadata": {},
   "source": [
    "From output above, it is evident that the database contains 8 tables that is : movie_basics, directors, known_for, movie_akas, movie_ratings,\n",
    "persons, principals and writers. We will inspect each table to understand the nature of the data they hold and also to determine which tables we will need for our analysis."
   ]
  }
 ],
 "metadata": {
  "kernelspec": {
   "display_name": "learn-env",
   "language": "python",
   "name": "python3"
  },
  "language_info": {
   "codemirror_mode": {
    "name": "ipython",
    "version": 3
   },
   "file_extension": ".py",
   "mimetype": "text/x-python",
   "name": "python",
   "nbconvert_exporter": "python",
   "pygments_lexer": "ipython3",
   "version": "3.8.5"
  }
 },
 "nbformat": 4,
 "nbformat_minor": 2
}
