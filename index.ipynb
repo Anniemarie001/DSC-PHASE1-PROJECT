{
 "cells": [
  {
   "cell_type": "markdown",
   "metadata": {},
   "source": [
    "## Final Project Submission\n",
    "\n",
    "Please fill out:\n",
    "* Student name: Annah Mukethe\n",
    "* Student pace: Part Time\n",
    "* Instructor name: Samuel Mwangi\n"
   ]
  },
  {
   "cell_type": "markdown",
   "metadata": {},
   "source": [
    "## PROJECT DESCRIPTION ##"
   ]
  },
  {
   "cell_type": "markdown",
   "metadata": {},
   "source": [
    "**OVERVIEW**\n",
    "\n",
    "In this project, we aim to assist Microsoft in entering the movie industry by leveraging exploratory data analysis (EDA) to uncover trends and patterns in box office performance. By examining a comprehensive dataset of films, we will identify the characteristics of successful movies, providing actionable insights to guide Microsoft's new movie studio in producing content that resonates with audiences and performs well financially."
   ]
  },
  {
   "cell_type": "markdown",
   "metadata": {},
   "source": [
    "## BUSINESS UNDERSTANDING ##"
   ]
  },
  {
   "cell_type": "markdown",
   "metadata": {},
   "source": [
    "**BUSINESS PROBLEM**\n",
    "\n",
    "Microsoft, inspired by the success of major companies producing original video content, has decided to launch its own movie studio. However, with no prior experience in film production, Microsoft faces a significant challenge in understanding the dynamics of the movie industry. The goal is to explore the current film landscape, specifically focusing on what types of films are achieving the best box office results. By identifying key factors that contribute to a movie's success, Microsoft can make informed decisions about the types of films to produce, ensuring a competitive entry into the market.\n",
    "\n",
    "**OBJECTIVES**\n",
    "\n",
    "1. **Analyze Market Trends:** Identify the genres, themes, and characteristics of movies that are currently performing well.\n",
    "\n",
    "2. **Determine Key Success Factors:** Understand the elements that contribute to high performance, such as budget, runtime, release period, and critical reception.\n",
    "3. **Provide Actionable Insights:** Translate the findings into strategic recommendations for the types of films Microsoft should create to maximize their chances of success in the competitive movie industry."
   ]
  },
  {
   "cell_type": "markdown",
   "metadata": {},
   "source": [
    "## DATA UNDERSTANDING ##"
   ]
  },
  {
   "cell_type": "markdown",
   "metadata": {},
   "source": [
    "**DATA SOURCE**\n",
    "\n",
    "Data Source: IMDb (Internet Movie Database) dataset\n",
    "Justification: IMDb is a comprehensive and reliable source for movie data, including ratings, genres, and other relevant information."
   ]
  },
  {
   "cell_type": "markdown",
   "metadata": {},
   "source": [
    "**DATASET COLUMN DESCRIPTION**\n",
    "\n",
    "The Description is based on the columns resulted from merging two tables from the im.db."
   ]
  },
  {
   "cell_type": "markdown",
   "metadata": {},
   "source": [
    "\n",
    "**movie_id:** Unique identifier for each movie.\n",
    "\n",
    "**primary_title:** The main title of the movie.\n",
    "\n",
    "**original_title:** The original title of the movie in its native language.\n",
    "\n",
    "**start_year:** The year the movie was released.\n",
    "\n",
    "**runtime_minutes:** The duration of the movie in minutes.\n",
    "\n",
    "**genres:** The categories or genres the movie belongs to (e.g., Drama, Comedy).\n",
    "\n",
    "**averagerating:** The average rating given to the movie by viewers.\n",
    "\n",
    "**numvotes:** The number of votes the movie has received from viewers."
   ]
  },
  {
   "cell_type": "markdown",
   "metadata": {},
   "source": [
    "**IMPORTING LIBRARIES**"
   ]
  },
  {
   "cell_type": "code",
   "execution_count": 56,
   "metadata": {},
   "outputs": [],
   "source": [
    "#importing necessary libraries\n",
    "import pandas as pd\n",
    "import numpy as np\n",
    "import matplotlib.pyplot as plt\n",
    "import seaborn as sns\n",
    "import sqlite3 "
   ]
  },
  {
   "cell_type": "markdown",
   "metadata": {},
   "source": [
    "**DATABASE CONNECTION**"
   ]
  },
  {
   "cell_type": "code",
   "execution_count": 57,
   "metadata": {},
   "outputs": [],
   "source": [
    "conn = sqlite3.Connection(\"im.db\")\n",
    "cursor = conn.cursor()"
   ]
  },
  {
   "cell_type": "markdown",
   "metadata": {},
   "source": [
    "**SCHEMA INSPECTION**"
   ]
  },
  {
   "cell_type": "code",
   "execution_count": 58,
   "metadata": {},
   "outputs": [
    {
     "name": "stdout",
     "output_type": "stream",
     "text": [
      "\n",
      "Table: movie_basics\n",
      "Columns:\n",
      " - movie_id (Type: TEXT)\n",
      " - primary_title (Type: TEXT)\n",
      " - original_title (Type: TEXT)\n",
      " - start_year (Type: INTEGER)\n",
      " - runtime_minutes (Type: REAL)\n",
      " - genres (Type: TEXT)\n",
      "\n",
      "Table: directors\n",
      "Columns:\n",
      " - movie_id (Type: TEXT)\n",
      " - person_id (Type: TEXT)\n",
      "\n",
      "Table: known_for\n",
      "Columns:\n",
      " - person_id (Type: TEXT)\n",
      " - movie_id (Type: TEXT)\n",
      "\n",
      "Table: movie_akas\n",
      "Columns:\n",
      " - movie_id (Type: TEXT)\n",
      " - ordering (Type: INTEGER)\n",
      " - title (Type: TEXT)\n",
      " - region (Type: TEXT)\n",
      " - language (Type: TEXT)\n",
      " - types (Type: TEXT)\n",
      " - attributes (Type: TEXT)\n",
      " - is_original_title (Type: REAL)\n",
      "\n",
      "Table: movie_ratings\n",
      "Columns:\n",
      " - movie_id (Type: TEXT)\n",
      " - averagerating (Type: REAL)\n",
      " - numvotes (Type: INTEGER)\n",
      "\n",
      "Table: persons\n",
      "Columns:\n",
      " - person_id (Type: TEXT)\n",
      " - primary_name (Type: TEXT)\n",
      " - birth_year (Type: REAL)\n",
      " - death_year (Type: REAL)\n",
      " - primary_profession (Type: TEXT)\n",
      "\n",
      "Table: principals\n",
      "Columns:\n",
      " - movie_id (Type: TEXT)\n",
      " - ordering (Type: INTEGER)\n",
      " - person_id (Type: TEXT)\n",
      " - category (Type: TEXT)\n",
      " - job (Type: TEXT)\n",
      " - characters (Type: TEXT)\n",
      "\n",
      "Table: writers\n",
      "Columns:\n",
      " - movie_id (Type: TEXT)\n",
      " - person_id (Type: TEXT)\n"
     ]
    }
   ],
   "source": [
    "#checking the tables that are available in the database\n",
    "cursor.execute(\"SELECT name FROM sqlite_master WHERE type='table';\")\n",
    "tables = cursor.fetchall()\n",
    "\n",
    "for table in tables:\n",
    "    print(f\"\\nTable: {table[0]}\")\n",
    "    cursor.execute(f\"PRAGMA table_info({table[0]});\")\n",
    "    columns = cursor.fetchall()\n",
    "    print(\"Columns:\")\n",
    "    for column in columns:\n",
    "        print(f\" - {column[1]} (Type: {column[2]})\")"
   ]
  },
  {
   "cell_type": "markdown",
   "metadata": {},
   "source": [
    "From output above, it is evident that the database contains 8 tables that is : movie_basics, directors, known_for, movie_akas, movie_ratings,\n",
    "persons, principals and writers. We will inspect each table to understand the nature of the data they hold and also to determine which tables we will need for our analysis."
   ]
  },
  {
   "cell_type": "markdown",
   "metadata": {},
   "source": [
    "**TABLE INSPECTION AND UNDERSTANDING RELATIONS**"
   ]
  },
  {
   "cell_type": "code",
   "execution_count": 59,
   "metadata": {},
   "outputs": [],
   "source": [
    "#We use a function to query all the tables first rows. By inspecting these rows we get to better understand our data\n",
    "def inspect_table(table_name, conn, limit=5):\n",
    "    query = f\"SELECT * FROM {table_name} LIMIT {limit};\"\n",
    "    return pd.read_sql_query(query, conn)"
   ]
  },
  {
   "cell_type": "code",
   "execution_count": 60,
   "metadata": {},
   "outputs": [
    {
     "name": "stdout",
     "output_type": "stream",
     "text": [
      "Inspecting movie_basics\n"
     ]
    },
    {
     "data": {
      "text/html": [
       "<div>\n",
       "<style scoped>\n",
       "    .dataframe tbody tr th:only-of-type {\n",
       "        vertical-align: middle;\n",
       "    }\n",
       "\n",
       "    .dataframe tbody tr th {\n",
       "        vertical-align: top;\n",
       "    }\n",
       "\n",
       "    .dataframe thead th {\n",
       "        text-align: right;\n",
       "    }\n",
       "</style>\n",
       "<table border=\"1\" class=\"dataframe\">\n",
       "  <thead>\n",
       "    <tr style=\"text-align: right;\">\n",
       "      <th></th>\n",
       "      <th>movie_id</th>\n",
       "      <th>primary_title</th>\n",
       "      <th>original_title</th>\n",
       "      <th>start_year</th>\n",
       "      <th>runtime_minutes</th>\n",
       "      <th>genres</th>\n",
       "    </tr>\n",
       "  </thead>\n",
       "  <tbody>\n",
       "    <tr>\n",
       "      <th>0</th>\n",
       "      <td>tt0063540</td>\n",
       "      <td>Sunghursh</td>\n",
       "      <td>Sunghursh</td>\n",
       "      <td>2013</td>\n",
       "      <td>175.0</td>\n",
       "      <td>Action,Crime,Drama</td>\n",
       "    </tr>\n",
       "    <tr>\n",
       "      <th>1</th>\n",
       "      <td>tt0066787</td>\n",
       "      <td>One Day Before the Rainy Season</td>\n",
       "      <td>Ashad Ka Ek Din</td>\n",
       "      <td>2019</td>\n",
       "      <td>114.0</td>\n",
       "      <td>Biography,Drama</td>\n",
       "    </tr>\n",
       "    <tr>\n",
       "      <th>2</th>\n",
       "      <td>tt0069049</td>\n",
       "      <td>The Other Side of the Wind</td>\n",
       "      <td>The Other Side of the Wind</td>\n",
       "      <td>2018</td>\n",
       "      <td>122.0</td>\n",
       "      <td>Drama</td>\n",
       "    </tr>\n",
       "    <tr>\n",
       "      <th>3</th>\n",
       "      <td>tt0069204</td>\n",
       "      <td>Sabse Bada Sukh</td>\n",
       "      <td>Sabse Bada Sukh</td>\n",
       "      <td>2018</td>\n",
       "      <td>NaN</td>\n",
       "      <td>Comedy,Drama</td>\n",
       "    </tr>\n",
       "    <tr>\n",
       "      <th>4</th>\n",
       "      <td>tt0100275</td>\n",
       "      <td>The Wandering Soap Opera</td>\n",
       "      <td>La Telenovela Errante</td>\n",
       "      <td>2017</td>\n",
       "      <td>80.0</td>\n",
       "      <td>Comedy,Drama,Fantasy</td>\n",
       "    </tr>\n",
       "  </tbody>\n",
       "</table>\n",
       "</div>"
      ],
      "text/plain": [
       "    movie_id                    primary_title              original_title  \\\n",
       "0  tt0063540                        Sunghursh                   Sunghursh   \n",
       "1  tt0066787  One Day Before the Rainy Season             Ashad Ka Ek Din   \n",
       "2  tt0069049       The Other Side of the Wind  The Other Side of the Wind   \n",
       "3  tt0069204                  Sabse Bada Sukh             Sabse Bada Sukh   \n",
       "4  tt0100275         The Wandering Soap Opera       La Telenovela Errante   \n",
       "\n",
       "   start_year  runtime_minutes                genres  \n",
       "0        2013            175.0    Action,Crime,Drama  \n",
       "1        2019            114.0       Biography,Drama  \n",
       "2        2018            122.0                 Drama  \n",
       "3        2018              NaN          Comedy,Drama  \n",
       "4        2017             80.0  Comedy,Drama,Fantasy  "
      ]
     },
     "metadata": {},
     "output_type": "display_data"
    },
    {
     "name": "stdout",
     "output_type": "stream",
     "text": [
      "Inspecting directors\n"
     ]
    },
    {
     "data": {
      "text/html": [
       "<div>\n",
       "<style scoped>\n",
       "    .dataframe tbody tr th:only-of-type {\n",
       "        vertical-align: middle;\n",
       "    }\n",
       "\n",
       "    .dataframe tbody tr th {\n",
       "        vertical-align: top;\n",
       "    }\n",
       "\n",
       "    .dataframe thead th {\n",
       "        text-align: right;\n",
       "    }\n",
       "</style>\n",
       "<table border=\"1\" class=\"dataframe\">\n",
       "  <thead>\n",
       "    <tr style=\"text-align: right;\">\n",
       "      <th></th>\n",
       "      <th>movie_id</th>\n",
       "      <th>person_id</th>\n",
       "    </tr>\n",
       "  </thead>\n",
       "  <tbody>\n",
       "    <tr>\n",
       "      <th>0</th>\n",
       "      <td>tt0285252</td>\n",
       "      <td>nm0899854</td>\n",
       "    </tr>\n",
       "    <tr>\n",
       "      <th>1</th>\n",
       "      <td>tt0462036</td>\n",
       "      <td>nm1940585</td>\n",
       "    </tr>\n",
       "    <tr>\n",
       "      <th>2</th>\n",
       "      <td>tt0835418</td>\n",
       "      <td>nm0151540</td>\n",
       "    </tr>\n",
       "    <tr>\n",
       "      <th>3</th>\n",
       "      <td>tt0835418</td>\n",
       "      <td>nm0151540</td>\n",
       "    </tr>\n",
       "    <tr>\n",
       "      <th>4</th>\n",
       "      <td>tt0878654</td>\n",
       "      <td>nm0089502</td>\n",
       "    </tr>\n",
       "  </tbody>\n",
       "</table>\n",
       "</div>"
      ],
      "text/plain": [
       "    movie_id  person_id\n",
       "0  tt0285252  nm0899854\n",
       "1  tt0462036  nm1940585\n",
       "2  tt0835418  nm0151540\n",
       "3  tt0835418  nm0151540\n",
       "4  tt0878654  nm0089502"
      ]
     },
     "metadata": {},
     "output_type": "display_data"
    },
    {
     "name": "stdout",
     "output_type": "stream",
     "text": [
      "Inspecting known_for\n"
     ]
    },
    {
     "data": {
      "text/html": [
       "<div>\n",
       "<style scoped>\n",
       "    .dataframe tbody tr th:only-of-type {\n",
       "        vertical-align: middle;\n",
       "    }\n",
       "\n",
       "    .dataframe tbody tr th {\n",
       "        vertical-align: top;\n",
       "    }\n",
       "\n",
       "    .dataframe thead th {\n",
       "        text-align: right;\n",
       "    }\n",
       "</style>\n",
       "<table border=\"1\" class=\"dataframe\">\n",
       "  <thead>\n",
       "    <tr style=\"text-align: right;\">\n",
       "      <th></th>\n",
       "      <th>person_id</th>\n",
       "      <th>movie_id</th>\n",
       "    </tr>\n",
       "  </thead>\n",
       "  <tbody>\n",
       "    <tr>\n",
       "      <th>0</th>\n",
       "      <td>nm0061671</td>\n",
       "      <td>tt0837562</td>\n",
       "    </tr>\n",
       "    <tr>\n",
       "      <th>1</th>\n",
       "      <td>nm0061671</td>\n",
       "      <td>tt2398241</td>\n",
       "    </tr>\n",
       "    <tr>\n",
       "      <th>2</th>\n",
       "      <td>nm0061671</td>\n",
       "      <td>tt0844471</td>\n",
       "    </tr>\n",
       "    <tr>\n",
       "      <th>3</th>\n",
       "      <td>nm0061671</td>\n",
       "      <td>tt0118553</td>\n",
       "    </tr>\n",
       "    <tr>\n",
       "      <th>4</th>\n",
       "      <td>nm0061865</td>\n",
       "      <td>tt0896534</td>\n",
       "    </tr>\n",
       "  </tbody>\n",
       "</table>\n",
       "</div>"
      ],
      "text/plain": [
       "   person_id   movie_id\n",
       "0  nm0061671  tt0837562\n",
       "1  nm0061671  tt2398241\n",
       "2  nm0061671  tt0844471\n",
       "3  nm0061671  tt0118553\n",
       "4  nm0061865  tt0896534"
      ]
     },
     "metadata": {},
     "output_type": "display_data"
    },
    {
     "name": "stdout",
     "output_type": "stream",
     "text": [
      "Inspecting movie_akas\n"
     ]
    },
    {
     "data": {
      "text/html": [
       "<div>\n",
       "<style scoped>\n",
       "    .dataframe tbody tr th:only-of-type {\n",
       "        vertical-align: middle;\n",
       "    }\n",
       "\n",
       "    .dataframe tbody tr th {\n",
       "        vertical-align: top;\n",
       "    }\n",
       "\n",
       "    .dataframe thead th {\n",
       "        text-align: right;\n",
       "    }\n",
       "</style>\n",
       "<table border=\"1\" class=\"dataframe\">\n",
       "  <thead>\n",
       "    <tr style=\"text-align: right;\">\n",
       "      <th></th>\n",
       "      <th>movie_id</th>\n",
       "      <th>ordering</th>\n",
       "      <th>title</th>\n",
       "      <th>region</th>\n",
       "      <th>language</th>\n",
       "      <th>types</th>\n",
       "      <th>attributes</th>\n",
       "      <th>is_original_title</th>\n",
       "    </tr>\n",
       "  </thead>\n",
       "  <tbody>\n",
       "    <tr>\n",
       "      <th>0</th>\n",
       "      <td>tt0369610</td>\n",
       "      <td>10</td>\n",
       "      <td>Джурасик свят</td>\n",
       "      <td>BG</td>\n",
       "      <td>bg</td>\n",
       "      <td>None</td>\n",
       "      <td>None</td>\n",
       "      <td>0.0</td>\n",
       "    </tr>\n",
       "    <tr>\n",
       "      <th>1</th>\n",
       "      <td>tt0369610</td>\n",
       "      <td>11</td>\n",
       "      <td>Jurashikku warudo</td>\n",
       "      <td>JP</td>\n",
       "      <td>None</td>\n",
       "      <td>imdbDisplay</td>\n",
       "      <td>None</td>\n",
       "      <td>0.0</td>\n",
       "    </tr>\n",
       "    <tr>\n",
       "      <th>2</th>\n",
       "      <td>tt0369610</td>\n",
       "      <td>12</td>\n",
       "      <td>Jurassic World: O Mundo dos Dinossauros</td>\n",
       "      <td>BR</td>\n",
       "      <td>None</td>\n",
       "      <td>imdbDisplay</td>\n",
       "      <td>None</td>\n",
       "      <td>0.0</td>\n",
       "    </tr>\n",
       "    <tr>\n",
       "      <th>3</th>\n",
       "      <td>tt0369610</td>\n",
       "      <td>13</td>\n",
       "      <td>O Mundo dos Dinossauros</td>\n",
       "      <td>BR</td>\n",
       "      <td>None</td>\n",
       "      <td>None</td>\n",
       "      <td>short title</td>\n",
       "      <td>0.0</td>\n",
       "    </tr>\n",
       "    <tr>\n",
       "      <th>4</th>\n",
       "      <td>tt0369610</td>\n",
       "      <td>14</td>\n",
       "      <td>Jurassic World</td>\n",
       "      <td>FR</td>\n",
       "      <td>None</td>\n",
       "      <td>imdbDisplay</td>\n",
       "      <td>None</td>\n",
       "      <td>0.0</td>\n",
       "    </tr>\n",
       "  </tbody>\n",
       "</table>\n",
       "</div>"
      ],
      "text/plain": [
       "    movie_id  ordering                                    title region  \\\n",
       "0  tt0369610        10                            Джурасик свят     BG   \n",
       "1  tt0369610        11                        Jurashikku warudo     JP   \n",
       "2  tt0369610        12  Jurassic World: O Mundo dos Dinossauros     BR   \n",
       "3  tt0369610        13                  O Mundo dos Dinossauros     BR   \n",
       "4  tt0369610        14                           Jurassic World     FR   \n",
       "\n",
       "  language        types   attributes  is_original_title  \n",
       "0       bg         None         None                0.0  \n",
       "1     None  imdbDisplay         None                0.0  \n",
       "2     None  imdbDisplay         None                0.0  \n",
       "3     None         None  short title                0.0  \n",
       "4     None  imdbDisplay         None                0.0  "
      ]
     },
     "metadata": {},
     "output_type": "display_data"
    },
    {
     "name": "stdout",
     "output_type": "stream",
     "text": [
      "Inspecting movie_ratings\n"
     ]
    },
    {
     "data": {
      "text/html": [
       "<div>\n",
       "<style scoped>\n",
       "    .dataframe tbody tr th:only-of-type {\n",
       "        vertical-align: middle;\n",
       "    }\n",
       "\n",
       "    .dataframe tbody tr th {\n",
       "        vertical-align: top;\n",
       "    }\n",
       "\n",
       "    .dataframe thead th {\n",
       "        text-align: right;\n",
       "    }\n",
       "</style>\n",
       "<table border=\"1\" class=\"dataframe\">\n",
       "  <thead>\n",
       "    <tr style=\"text-align: right;\">\n",
       "      <th></th>\n",
       "      <th>movie_id</th>\n",
       "      <th>averagerating</th>\n",
       "      <th>numvotes</th>\n",
       "    </tr>\n",
       "  </thead>\n",
       "  <tbody>\n",
       "    <tr>\n",
       "      <th>0</th>\n",
       "      <td>tt10356526</td>\n",
       "      <td>8.3</td>\n",
       "      <td>31</td>\n",
       "    </tr>\n",
       "    <tr>\n",
       "      <th>1</th>\n",
       "      <td>tt10384606</td>\n",
       "      <td>8.9</td>\n",
       "      <td>559</td>\n",
       "    </tr>\n",
       "    <tr>\n",
       "      <th>2</th>\n",
       "      <td>tt1042974</td>\n",
       "      <td>6.4</td>\n",
       "      <td>20</td>\n",
       "    </tr>\n",
       "    <tr>\n",
       "      <th>3</th>\n",
       "      <td>tt1043726</td>\n",
       "      <td>4.2</td>\n",
       "      <td>50352</td>\n",
       "    </tr>\n",
       "    <tr>\n",
       "      <th>4</th>\n",
       "      <td>tt1060240</td>\n",
       "      <td>6.5</td>\n",
       "      <td>21</td>\n",
       "    </tr>\n",
       "  </tbody>\n",
       "</table>\n",
       "</div>"
      ],
      "text/plain": [
       "     movie_id  averagerating  numvotes\n",
       "0  tt10356526            8.3        31\n",
       "1  tt10384606            8.9       559\n",
       "2   tt1042974            6.4        20\n",
       "3   tt1043726            4.2     50352\n",
       "4   tt1060240            6.5        21"
      ]
     },
     "metadata": {},
     "output_type": "display_data"
    },
    {
     "name": "stdout",
     "output_type": "stream",
     "text": [
      "Inspecting persons\n"
     ]
    },
    {
     "data": {
      "text/html": [
       "<div>\n",
       "<style scoped>\n",
       "    .dataframe tbody tr th:only-of-type {\n",
       "        vertical-align: middle;\n",
       "    }\n",
       "\n",
       "    .dataframe tbody tr th {\n",
       "        vertical-align: top;\n",
       "    }\n",
       "\n",
       "    .dataframe thead th {\n",
       "        text-align: right;\n",
       "    }\n",
       "</style>\n",
       "<table border=\"1\" class=\"dataframe\">\n",
       "  <thead>\n",
       "    <tr style=\"text-align: right;\">\n",
       "      <th></th>\n",
       "      <th>person_id</th>\n",
       "      <th>primary_name</th>\n",
       "      <th>birth_year</th>\n",
       "      <th>death_year</th>\n",
       "      <th>primary_profession</th>\n",
       "    </tr>\n",
       "  </thead>\n",
       "  <tbody>\n",
       "    <tr>\n",
       "      <th>0</th>\n",
       "      <td>nm0061671</td>\n",
       "      <td>Mary Ellen Bauder</td>\n",
       "      <td>None</td>\n",
       "      <td>None</td>\n",
       "      <td>miscellaneous,production_manager,producer</td>\n",
       "    </tr>\n",
       "    <tr>\n",
       "      <th>1</th>\n",
       "      <td>nm0061865</td>\n",
       "      <td>Joseph Bauer</td>\n",
       "      <td>None</td>\n",
       "      <td>None</td>\n",
       "      <td>composer,music_department,sound_department</td>\n",
       "    </tr>\n",
       "    <tr>\n",
       "      <th>2</th>\n",
       "      <td>nm0062070</td>\n",
       "      <td>Bruce Baum</td>\n",
       "      <td>None</td>\n",
       "      <td>None</td>\n",
       "      <td>miscellaneous,actor,writer</td>\n",
       "    </tr>\n",
       "    <tr>\n",
       "      <th>3</th>\n",
       "      <td>nm0062195</td>\n",
       "      <td>Axel Baumann</td>\n",
       "      <td>None</td>\n",
       "      <td>None</td>\n",
       "      <td>camera_department,cinematographer,art_department</td>\n",
       "    </tr>\n",
       "    <tr>\n",
       "      <th>4</th>\n",
       "      <td>nm0062798</td>\n",
       "      <td>Pete Baxter</td>\n",
       "      <td>None</td>\n",
       "      <td>None</td>\n",
       "      <td>production_designer,art_department,set_decorator</td>\n",
       "    </tr>\n",
       "  </tbody>\n",
       "</table>\n",
       "</div>"
      ],
      "text/plain": [
       "   person_id       primary_name birth_year death_year  \\\n",
       "0  nm0061671  Mary Ellen Bauder       None       None   \n",
       "1  nm0061865       Joseph Bauer       None       None   \n",
       "2  nm0062070         Bruce Baum       None       None   \n",
       "3  nm0062195       Axel Baumann       None       None   \n",
       "4  nm0062798        Pete Baxter       None       None   \n",
       "\n",
       "                                 primary_profession  \n",
       "0         miscellaneous,production_manager,producer  \n",
       "1        composer,music_department,sound_department  \n",
       "2                        miscellaneous,actor,writer  \n",
       "3  camera_department,cinematographer,art_department  \n",
       "4  production_designer,art_department,set_decorator  "
      ]
     },
     "metadata": {},
     "output_type": "display_data"
    },
    {
     "name": "stdout",
     "output_type": "stream",
     "text": [
      "Inspecting principals\n"
     ]
    },
    {
     "data": {
      "text/html": [
       "<div>\n",
       "<style scoped>\n",
       "    .dataframe tbody tr th:only-of-type {\n",
       "        vertical-align: middle;\n",
       "    }\n",
       "\n",
       "    .dataframe tbody tr th {\n",
       "        vertical-align: top;\n",
       "    }\n",
       "\n",
       "    .dataframe thead th {\n",
       "        text-align: right;\n",
       "    }\n",
       "</style>\n",
       "<table border=\"1\" class=\"dataframe\">\n",
       "  <thead>\n",
       "    <tr style=\"text-align: right;\">\n",
       "      <th></th>\n",
       "      <th>movie_id</th>\n",
       "      <th>ordering</th>\n",
       "      <th>person_id</th>\n",
       "      <th>category</th>\n",
       "      <th>job</th>\n",
       "      <th>characters</th>\n",
       "    </tr>\n",
       "  </thead>\n",
       "  <tbody>\n",
       "    <tr>\n",
       "      <th>0</th>\n",
       "      <td>tt0111414</td>\n",
       "      <td>1</td>\n",
       "      <td>nm0246005</td>\n",
       "      <td>actor</td>\n",
       "      <td>None</td>\n",
       "      <td>[\"The Man\"]</td>\n",
       "    </tr>\n",
       "    <tr>\n",
       "      <th>1</th>\n",
       "      <td>tt0111414</td>\n",
       "      <td>2</td>\n",
       "      <td>nm0398271</td>\n",
       "      <td>director</td>\n",
       "      <td>None</td>\n",
       "      <td>None</td>\n",
       "    </tr>\n",
       "    <tr>\n",
       "      <th>2</th>\n",
       "      <td>tt0111414</td>\n",
       "      <td>3</td>\n",
       "      <td>nm3739909</td>\n",
       "      <td>producer</td>\n",
       "      <td>producer</td>\n",
       "      <td>None</td>\n",
       "    </tr>\n",
       "    <tr>\n",
       "      <th>3</th>\n",
       "      <td>tt0323808</td>\n",
       "      <td>10</td>\n",
       "      <td>nm0059247</td>\n",
       "      <td>editor</td>\n",
       "      <td>None</td>\n",
       "      <td>None</td>\n",
       "    </tr>\n",
       "    <tr>\n",
       "      <th>4</th>\n",
       "      <td>tt0323808</td>\n",
       "      <td>1</td>\n",
       "      <td>nm3579312</td>\n",
       "      <td>actress</td>\n",
       "      <td>None</td>\n",
       "      <td>[\"Beth Boothby\"]</td>\n",
       "    </tr>\n",
       "  </tbody>\n",
       "</table>\n",
       "</div>"
      ],
      "text/plain": [
       "    movie_id  ordering  person_id  category       job        characters\n",
       "0  tt0111414         1  nm0246005     actor      None       [\"The Man\"]\n",
       "1  tt0111414         2  nm0398271  director      None              None\n",
       "2  tt0111414         3  nm3739909  producer  producer              None\n",
       "3  tt0323808        10  nm0059247    editor      None              None\n",
       "4  tt0323808         1  nm3579312   actress      None  [\"Beth Boothby\"]"
      ]
     },
     "metadata": {},
     "output_type": "display_data"
    },
    {
     "name": "stdout",
     "output_type": "stream",
     "text": [
      "Inspecting writers\n"
     ]
    },
    {
     "data": {
      "text/html": [
       "<div>\n",
       "<style scoped>\n",
       "    .dataframe tbody tr th:only-of-type {\n",
       "        vertical-align: middle;\n",
       "    }\n",
       "\n",
       "    .dataframe tbody tr th {\n",
       "        vertical-align: top;\n",
       "    }\n",
       "\n",
       "    .dataframe thead th {\n",
       "        text-align: right;\n",
       "    }\n",
       "</style>\n",
       "<table border=\"1\" class=\"dataframe\">\n",
       "  <thead>\n",
       "    <tr style=\"text-align: right;\">\n",
       "      <th></th>\n",
       "      <th>movie_id</th>\n",
       "      <th>person_id</th>\n",
       "    </tr>\n",
       "  </thead>\n",
       "  <tbody>\n",
       "    <tr>\n",
       "      <th>0</th>\n",
       "      <td>tt0285252</td>\n",
       "      <td>nm0899854</td>\n",
       "    </tr>\n",
       "    <tr>\n",
       "      <th>1</th>\n",
       "      <td>tt0438973</td>\n",
       "      <td>nm0175726</td>\n",
       "    </tr>\n",
       "    <tr>\n",
       "      <th>2</th>\n",
       "      <td>tt0438973</td>\n",
       "      <td>nm1802864</td>\n",
       "    </tr>\n",
       "    <tr>\n",
       "      <th>3</th>\n",
       "      <td>tt0462036</td>\n",
       "      <td>nm1940585</td>\n",
       "    </tr>\n",
       "    <tr>\n",
       "      <th>4</th>\n",
       "      <td>tt0835418</td>\n",
       "      <td>nm0310087</td>\n",
       "    </tr>\n",
       "  </tbody>\n",
       "</table>\n",
       "</div>"
      ],
      "text/plain": [
       "    movie_id  person_id\n",
       "0  tt0285252  nm0899854\n",
       "1  tt0438973  nm0175726\n",
       "2  tt0438973  nm1802864\n",
       "3  tt0462036  nm1940585\n",
       "4  tt0835418  nm0310087"
      ]
     },
     "metadata": {},
     "output_type": "display_data"
    }
   ],
   "source": [
    "#Calling the function\n",
    "tables = [\"movie_basics\", \"directors\", \"known_for\", \"movie_akas\", \"movie_ratings\", \"persons\", \"principals\", \"writers\"]\n",
    "\n",
    "for table in tables:\n",
    "    print(f\"Inspecting {table}\")\n",
    "    display(inspect_table(table, conn))"
   ]
  },
  {
   "cell_type": "markdown",
   "metadata": {},
   "source": [
    "# Rationale for selecting the movie_basics and movie_ratings tables:\n",
    "\n",
    "After inspecting the available tables in the database, we determined that the movie_basics and movie_ratings tables would be the most relevant for our analysis.\n",
    "The movie_basics table contains essential information about each movie, such as its unique identifier, title, release year, runtime, and genres. This information is crucial for understanding and categorizing the movies in our analysis.\n",
    "\n",
    "The movie_ratings table provides valuable insights into the popularity and reception of each movie by including the average rating and the number of votes cast. This information can be used to analyze the critical and audience reception of movies, identify well-received or poorly received titles, and potentially uncover patterns or correlations between movie attributes and their ratings.\n",
    "\n",
    "While the other tables in the database, such as directors, writers, and principals, contain additional details about the people involved in the movies, we decided to focus our analysis on the movie-level data first. Incorporating information from these additional tables could be explored in future analyses if deemed necessary.\n",
    "\n",
    "By focusing on the movie_basics and movie_ratings tables, we can effectively analyze the core attributes and reception of the movies without overwhelming our initial analysis with excessive complexity from the additional tables."
   ]
  },
  {
   "cell_type": "markdown",
   "metadata": {},
   "source": [
    "**JOINING THE TABLES**\n",
    "\n",
    "We will join the two tables using inner join so as to have one complete dataset."
   ]
  },
  {
   "cell_type": "code",
   "execution_count": 61,
   "metadata": {},
   "outputs": [
    {
     "data": {
      "text/html": [
       "<div>\n",
       "<style scoped>\n",
       "    .dataframe tbody tr th:only-of-type {\n",
       "        vertical-align: middle;\n",
       "    }\n",
       "\n",
       "    .dataframe tbody tr th {\n",
       "        vertical-align: top;\n",
       "    }\n",
       "\n",
       "    .dataframe thead th {\n",
       "        text-align: right;\n",
       "    }\n",
       "</style>\n",
       "<table border=\"1\" class=\"dataframe\">\n",
       "  <thead>\n",
       "    <tr style=\"text-align: right;\">\n",
       "      <th></th>\n",
       "      <th>movie_id</th>\n",
       "      <th>primary_title</th>\n",
       "      <th>original_title</th>\n",
       "      <th>start_year</th>\n",
       "      <th>runtime_minutes</th>\n",
       "      <th>genres</th>\n",
       "      <th>averagerating</th>\n",
       "      <th>numvotes</th>\n",
       "    </tr>\n",
       "  </thead>\n",
       "  <tbody>\n",
       "    <tr>\n",
       "      <th>0</th>\n",
       "      <td>tt0063540</td>\n",
       "      <td>Sunghursh</td>\n",
       "      <td>Sunghursh</td>\n",
       "      <td>2013</td>\n",
       "      <td>175.0</td>\n",
       "      <td>Action,Crime,Drama</td>\n",
       "      <td>7.0</td>\n",
       "      <td>77</td>\n",
       "    </tr>\n",
       "    <tr>\n",
       "      <th>1</th>\n",
       "      <td>tt0066787</td>\n",
       "      <td>One Day Before the Rainy Season</td>\n",
       "      <td>Ashad Ka Ek Din</td>\n",
       "      <td>2019</td>\n",
       "      <td>114.0</td>\n",
       "      <td>Biography,Drama</td>\n",
       "      <td>7.2</td>\n",
       "      <td>43</td>\n",
       "    </tr>\n",
       "    <tr>\n",
       "      <th>2</th>\n",
       "      <td>tt0069049</td>\n",
       "      <td>The Other Side of the Wind</td>\n",
       "      <td>The Other Side of the Wind</td>\n",
       "      <td>2018</td>\n",
       "      <td>122.0</td>\n",
       "      <td>Drama</td>\n",
       "      <td>6.9</td>\n",
       "      <td>4517</td>\n",
       "    </tr>\n",
       "    <tr>\n",
       "      <th>3</th>\n",
       "      <td>tt0069204</td>\n",
       "      <td>Sabse Bada Sukh</td>\n",
       "      <td>Sabse Bada Sukh</td>\n",
       "      <td>2018</td>\n",
       "      <td>NaN</td>\n",
       "      <td>Comedy,Drama</td>\n",
       "      <td>6.1</td>\n",
       "      <td>13</td>\n",
       "    </tr>\n",
       "    <tr>\n",
       "      <th>4</th>\n",
       "      <td>tt0100275</td>\n",
       "      <td>The Wandering Soap Opera</td>\n",
       "      <td>La Telenovela Errante</td>\n",
       "      <td>2017</td>\n",
       "      <td>80.0</td>\n",
       "      <td>Comedy,Drama,Fantasy</td>\n",
       "      <td>6.5</td>\n",
       "      <td>119</td>\n",
       "    </tr>\n",
       "    <tr>\n",
       "      <th>...</th>\n",
       "      <td>...</td>\n",
       "      <td>...</td>\n",
       "      <td>...</td>\n",
       "      <td>...</td>\n",
       "      <td>...</td>\n",
       "      <td>...</td>\n",
       "      <td>...</td>\n",
       "      <td>...</td>\n",
       "    </tr>\n",
       "    <tr>\n",
       "      <th>73851</th>\n",
       "      <td>tt9913084</td>\n",
       "      <td>Diabolik sono io</td>\n",
       "      <td>Diabolik sono io</td>\n",
       "      <td>2019</td>\n",
       "      <td>75.0</td>\n",
       "      <td>Documentary</td>\n",
       "      <td>6.2</td>\n",
       "      <td>6</td>\n",
       "    </tr>\n",
       "    <tr>\n",
       "      <th>73852</th>\n",
       "      <td>tt9914286</td>\n",
       "      <td>Sokagin Çocuklari</td>\n",
       "      <td>Sokagin Çocuklari</td>\n",
       "      <td>2019</td>\n",
       "      <td>98.0</td>\n",
       "      <td>Drama,Family</td>\n",
       "      <td>8.7</td>\n",
       "      <td>136</td>\n",
       "    </tr>\n",
       "    <tr>\n",
       "      <th>73853</th>\n",
       "      <td>tt9914642</td>\n",
       "      <td>Albatross</td>\n",
       "      <td>Albatross</td>\n",
       "      <td>2017</td>\n",
       "      <td>NaN</td>\n",
       "      <td>Documentary</td>\n",
       "      <td>8.5</td>\n",
       "      <td>8</td>\n",
       "    </tr>\n",
       "    <tr>\n",
       "      <th>73854</th>\n",
       "      <td>tt9914942</td>\n",
       "      <td>La vida sense la Sara Amat</td>\n",
       "      <td>La vida sense la Sara Amat</td>\n",
       "      <td>2019</td>\n",
       "      <td>NaN</td>\n",
       "      <td>None</td>\n",
       "      <td>6.6</td>\n",
       "      <td>5</td>\n",
       "    </tr>\n",
       "    <tr>\n",
       "      <th>73855</th>\n",
       "      <td>tt9916160</td>\n",
       "      <td>Drømmeland</td>\n",
       "      <td>Drømmeland</td>\n",
       "      <td>2019</td>\n",
       "      <td>72.0</td>\n",
       "      <td>Documentary</td>\n",
       "      <td>6.5</td>\n",
       "      <td>11</td>\n",
       "    </tr>\n",
       "  </tbody>\n",
       "</table>\n",
       "<p>73856 rows × 8 columns</p>\n",
       "</div>"
      ],
      "text/plain": [
       "        movie_id                    primary_title              original_title  \\\n",
       "0      tt0063540                        Sunghursh                   Sunghursh   \n",
       "1      tt0066787  One Day Before the Rainy Season             Ashad Ka Ek Din   \n",
       "2      tt0069049       The Other Side of the Wind  The Other Side of the Wind   \n",
       "3      tt0069204                  Sabse Bada Sukh             Sabse Bada Sukh   \n",
       "4      tt0100275         The Wandering Soap Opera       La Telenovela Errante   \n",
       "...          ...                              ...                         ...   \n",
       "73851  tt9913084                 Diabolik sono io            Diabolik sono io   \n",
       "73852  tt9914286                Sokagin Çocuklari           Sokagin Çocuklari   \n",
       "73853  tt9914642                        Albatross                   Albatross   \n",
       "73854  tt9914942       La vida sense la Sara Amat  La vida sense la Sara Amat   \n",
       "73855  tt9916160                       Drømmeland                  Drømmeland   \n",
       "\n",
       "       start_year  runtime_minutes                genres  averagerating  \\\n",
       "0            2013            175.0    Action,Crime,Drama            7.0   \n",
       "1            2019            114.0       Biography,Drama            7.2   \n",
       "2            2018            122.0                 Drama            6.9   \n",
       "3            2018              NaN          Comedy,Drama            6.1   \n",
       "4            2017             80.0  Comedy,Drama,Fantasy            6.5   \n",
       "...           ...              ...                   ...            ...   \n",
       "73851        2019             75.0           Documentary            6.2   \n",
       "73852        2019             98.0          Drama,Family            8.7   \n",
       "73853        2017              NaN           Documentary            8.5   \n",
       "73854        2019              NaN                  None            6.6   \n",
       "73855        2019             72.0           Documentary            6.5   \n",
       "\n",
       "       numvotes  \n",
       "0            77  \n",
       "1            43  \n",
       "2          4517  \n",
       "3            13  \n",
       "4           119  \n",
       "...         ...  \n",
       "73851         6  \n",
       "73852       136  \n",
       "73853         8  \n",
       "73854         5  \n",
       "73855        11  \n",
       "\n",
       "[73856 rows x 8 columns]"
      ]
     },
     "execution_count": 61,
     "metadata": {},
     "output_type": "execute_result"
    }
   ],
   "source": [
    "#Joining the two tables using inner join on movie_id\n",
    "movie_df = \"\"\" \n",
    "            SELECT a.movie_id, a.primary_title, a.original_title, a.start_year, a.runtime_minutes, a.genres,\n",
    "            b.averagerating, b.numvotes FROM movie_basics a inner join movie_ratings b on b.movie_id = a.movie_id;\n",
    "                \n",
    "            \"\"\"\n",
    "pd.read_sql_query(movie_df, conn)    "
   ]
  },
  {
   "cell_type": "markdown",
   "metadata": {},
   "source": [
    "**LOADING THE DATA AS A PANDAS DATAFRAME**"
   ]
  },
  {
   "cell_type": "code",
   "execution_count": 62,
   "metadata": {},
   "outputs": [],
   "source": [
    "# Load the table into pandas DataFrames and closing the database connection.\n",
    "df = pd.read_sql_query(movie_df, conn) \n",
    "conn.close()"
   ]
  },
  {
   "cell_type": "markdown",
   "metadata": {},
   "source": [
    "## DATA UNDERSTANDING ##"
   ]
  },
  {
   "cell_type": "markdown",
   "metadata": {},
   "source": [
    "**METHODOLOGY**\n",
    "1. Checking the shape/size of the dataset\n",
    "2. Checking for duplicates\n",
    "3. Checking for missing values\n",
    "4. Checking for outliers\n"
   ]
  },
  {
   "cell_type": "code",
   "execution_count": 63,
   "metadata": {},
   "outputs": [
    {
     "name": "stdout",
     "output_type": "stream",
     "text": [
      "Shape of the movies dataset is: (73856, 8)\n"
     ]
    }
   ],
   "source": [
    "#Inspecting the shape of the df\n",
    "print('Shape of the movies dataset is:', df.shape)"
   ]
  },
  {
   "cell_type": "markdown",
   "metadata": {},
   "source": [
    "From the shape above, we see that we have 73,856 rows and 8 columns."
   ]
  },
  {
   "cell_type": "code",
   "execution_count": 64,
   "metadata": {},
   "outputs": [
    {
     "data": {
      "text/html": [
       "<div>\n",
       "<style scoped>\n",
       "    .dataframe tbody tr th:only-of-type {\n",
       "        vertical-align: middle;\n",
       "    }\n",
       "\n",
       "    .dataframe tbody tr th {\n",
       "        vertical-align: top;\n",
       "    }\n",
       "\n",
       "    .dataframe thead th {\n",
       "        text-align: right;\n",
       "    }\n",
       "</style>\n",
       "<table border=\"1\" class=\"dataframe\">\n",
       "  <thead>\n",
       "    <tr style=\"text-align: right;\">\n",
       "      <th></th>\n",
       "      <th>movie_id</th>\n",
       "      <th>primary_title</th>\n",
       "      <th>original_title</th>\n",
       "      <th>start_year</th>\n",
       "      <th>runtime_minutes</th>\n",
       "      <th>genres</th>\n",
       "      <th>averagerating</th>\n",
       "      <th>numvotes</th>\n",
       "    </tr>\n",
       "  </thead>\n",
       "  <tbody>\n",
       "    <tr>\n",
       "      <th>0</th>\n",
       "      <td>tt0063540</td>\n",
       "      <td>Sunghursh</td>\n",
       "      <td>Sunghursh</td>\n",
       "      <td>2013</td>\n",
       "      <td>175.0</td>\n",
       "      <td>Action,Crime,Drama</td>\n",
       "      <td>7.0</td>\n",
       "      <td>77</td>\n",
       "    </tr>\n",
       "    <tr>\n",
       "      <th>1</th>\n",
       "      <td>tt0066787</td>\n",
       "      <td>One Day Before the Rainy Season</td>\n",
       "      <td>Ashad Ka Ek Din</td>\n",
       "      <td>2019</td>\n",
       "      <td>114.0</td>\n",
       "      <td>Biography,Drama</td>\n",
       "      <td>7.2</td>\n",
       "      <td>43</td>\n",
       "    </tr>\n",
       "    <tr>\n",
       "      <th>2</th>\n",
       "      <td>tt0069049</td>\n",
       "      <td>The Other Side of the Wind</td>\n",
       "      <td>The Other Side of the Wind</td>\n",
       "      <td>2018</td>\n",
       "      <td>122.0</td>\n",
       "      <td>Drama</td>\n",
       "      <td>6.9</td>\n",
       "      <td>4517</td>\n",
       "    </tr>\n",
       "    <tr>\n",
       "      <th>3</th>\n",
       "      <td>tt0069204</td>\n",
       "      <td>Sabse Bada Sukh</td>\n",
       "      <td>Sabse Bada Sukh</td>\n",
       "      <td>2018</td>\n",
       "      <td>NaN</td>\n",
       "      <td>Comedy,Drama</td>\n",
       "      <td>6.1</td>\n",
       "      <td>13</td>\n",
       "    </tr>\n",
       "    <tr>\n",
       "      <th>4</th>\n",
       "      <td>tt0100275</td>\n",
       "      <td>The Wandering Soap Opera</td>\n",
       "      <td>La Telenovela Errante</td>\n",
       "      <td>2017</td>\n",
       "      <td>80.0</td>\n",
       "      <td>Comedy,Drama,Fantasy</td>\n",
       "      <td>6.5</td>\n",
       "      <td>119</td>\n",
       "    </tr>\n",
       "  </tbody>\n",
       "</table>\n",
       "</div>"
      ],
      "text/plain": [
       "    movie_id                    primary_title              original_title  \\\n",
       "0  tt0063540                        Sunghursh                   Sunghursh   \n",
       "1  tt0066787  One Day Before the Rainy Season             Ashad Ka Ek Din   \n",
       "2  tt0069049       The Other Side of the Wind  The Other Side of the Wind   \n",
       "3  tt0069204                  Sabse Bada Sukh             Sabse Bada Sukh   \n",
       "4  tt0100275         The Wandering Soap Opera       La Telenovela Errante   \n",
       "\n",
       "   start_year  runtime_minutes                genres  averagerating  numvotes  \n",
       "0        2013            175.0    Action,Crime,Drama            7.0        77  \n",
       "1        2019            114.0       Biography,Drama            7.2        43  \n",
       "2        2018            122.0                 Drama            6.9      4517  \n",
       "3        2018              NaN          Comedy,Drama            6.1        13  \n",
       "4        2017             80.0  Comedy,Drama,Fantasy            6.5       119  "
      ]
     },
     "execution_count": 64,
     "metadata": {},
     "output_type": "execute_result"
    }
   ],
   "source": [
    "#Inspecting the first few 5 rows.\n",
    "df.head()"
   ]
  },
  {
   "cell_type": "code",
   "execution_count": 65,
   "metadata": {},
   "outputs": [
    {
     "data": {
      "text/html": [
       "<div>\n",
       "<style scoped>\n",
       "    .dataframe tbody tr th:only-of-type {\n",
       "        vertical-align: middle;\n",
       "    }\n",
       "\n",
       "    .dataframe tbody tr th {\n",
       "        vertical-align: top;\n",
       "    }\n",
       "\n",
       "    .dataframe thead th {\n",
       "        text-align: right;\n",
       "    }\n",
       "</style>\n",
       "<table border=\"1\" class=\"dataframe\">\n",
       "  <thead>\n",
       "    <tr style=\"text-align: right;\">\n",
       "      <th></th>\n",
       "      <th>movie_id</th>\n",
       "      <th>primary_title</th>\n",
       "      <th>original_title</th>\n",
       "      <th>start_year</th>\n",
       "      <th>runtime_minutes</th>\n",
       "      <th>genres</th>\n",
       "      <th>averagerating</th>\n",
       "      <th>numvotes</th>\n",
       "    </tr>\n",
       "  </thead>\n",
       "  <tbody>\n",
       "    <tr>\n",
       "      <th>73851</th>\n",
       "      <td>tt9913084</td>\n",
       "      <td>Diabolik sono io</td>\n",
       "      <td>Diabolik sono io</td>\n",
       "      <td>2019</td>\n",
       "      <td>75.0</td>\n",
       "      <td>Documentary</td>\n",
       "      <td>6.2</td>\n",
       "      <td>6</td>\n",
       "    </tr>\n",
       "    <tr>\n",
       "      <th>73852</th>\n",
       "      <td>tt9914286</td>\n",
       "      <td>Sokagin Çocuklari</td>\n",
       "      <td>Sokagin Çocuklari</td>\n",
       "      <td>2019</td>\n",
       "      <td>98.0</td>\n",
       "      <td>Drama,Family</td>\n",
       "      <td>8.7</td>\n",
       "      <td>136</td>\n",
       "    </tr>\n",
       "    <tr>\n",
       "      <th>73853</th>\n",
       "      <td>tt9914642</td>\n",
       "      <td>Albatross</td>\n",
       "      <td>Albatross</td>\n",
       "      <td>2017</td>\n",
       "      <td>NaN</td>\n",
       "      <td>Documentary</td>\n",
       "      <td>8.5</td>\n",
       "      <td>8</td>\n",
       "    </tr>\n",
       "    <tr>\n",
       "      <th>73854</th>\n",
       "      <td>tt9914942</td>\n",
       "      <td>La vida sense la Sara Amat</td>\n",
       "      <td>La vida sense la Sara Amat</td>\n",
       "      <td>2019</td>\n",
       "      <td>NaN</td>\n",
       "      <td>None</td>\n",
       "      <td>6.6</td>\n",
       "      <td>5</td>\n",
       "    </tr>\n",
       "    <tr>\n",
       "      <th>73855</th>\n",
       "      <td>tt9916160</td>\n",
       "      <td>Drømmeland</td>\n",
       "      <td>Drømmeland</td>\n",
       "      <td>2019</td>\n",
       "      <td>72.0</td>\n",
       "      <td>Documentary</td>\n",
       "      <td>6.5</td>\n",
       "      <td>11</td>\n",
       "    </tr>\n",
       "  </tbody>\n",
       "</table>\n",
       "</div>"
      ],
      "text/plain": [
       "        movie_id               primary_title              original_title  \\\n",
       "73851  tt9913084            Diabolik sono io            Diabolik sono io   \n",
       "73852  tt9914286           Sokagin Çocuklari           Sokagin Çocuklari   \n",
       "73853  tt9914642                   Albatross                   Albatross   \n",
       "73854  tt9914942  La vida sense la Sara Amat  La vida sense la Sara Amat   \n",
       "73855  tt9916160                  Drømmeland                  Drømmeland   \n",
       "\n",
       "       start_year  runtime_minutes        genres  averagerating  numvotes  \n",
       "73851        2019             75.0   Documentary            6.2         6  \n",
       "73852        2019             98.0  Drama,Family            8.7       136  \n",
       "73853        2017              NaN   Documentary            8.5         8  \n",
       "73854        2019              NaN          None            6.6         5  \n",
       "73855        2019             72.0   Documentary            6.5        11  "
      ]
     },
     "execution_count": 65,
     "metadata": {},
     "output_type": "execute_result"
    }
   ],
   "source": [
    "#Inspecting the last few rows\n",
    "df.tail()"
   ]
  },
  {
   "cell_type": "markdown",
   "metadata": {},
   "source": [
    "From the inspection of the first and last 5 rows, our data is well stractured in the desired tabular format. However, we can already see a column with NaN values that is the runtime_minutes column indicating presence of missing values. We will further check for missing values in all columns."
   ]
  },
  {
   "cell_type": "code",
   "execution_count": 66,
   "metadata": {},
   "outputs": [
    {
     "data": {
      "text/plain": [
       "movie_id              0\n",
       "primary_title         0\n",
       "original_title        0\n",
       "start_year            0\n",
       "runtime_minutes    7620\n",
       "genres              804\n",
       "averagerating         0\n",
       "numvotes              0\n",
       "dtype: int64"
      ]
     },
     "execution_count": 66,
     "metadata": {},
     "output_type": "execute_result"
    }
   ],
   "source": [
    "#Checking for missing values in our dataset\n",
    "df.isnull().sum()"
   ]
  },
  {
   "cell_type": "code",
   "execution_count": 67,
   "metadata": {},
   "outputs": [
    {
     "name": "stdout",
     "output_type": "stream",
     "text": [
      "movie_id            0.000000\n",
      "primary_title       0.000000\n",
      "original_title      0.000000\n",
      "start_year          0.000000\n",
      "runtime_minutes    10.317374\n",
      "genres              1.088605\n",
      "averagerating       0.000000\n",
      "numvotes            0.000000\n",
      "dtype: float64\n"
     ]
    }
   ],
   "source": [
    "#Comouting the percentages of mikssing values\n",
    "missing_percentages = df.isnull().mean() * 100\n",
    "print(missing_percentages)"
   ]
  },
  {
   "cell_type": "markdown",
   "metadata": {},
   "source": [
    "We see that the runtime_minutes and genres both have missing values with runtime_minutes having 7,620 missing values taking about 10% of the dataset while genres has 804 of missing values constituting about 1% of the total dataset."
   ]
  },
  {
   "cell_type": "code",
   "execution_count": 68,
   "metadata": {},
   "outputs": [
    {
     "data": {
      "text/plain": [
       "0"
      ]
     },
     "execution_count": 68,
     "metadata": {},
     "output_type": "execute_result"
    }
   ],
   "source": [
    "#checking for duplicates\n",
    "df.duplicated().sum()"
   ]
  },
  {
   "cell_type": "markdown",
   "metadata": {},
   "source": [
    "From the results above, it is clear we do not have any duplicated values"
   ]
  },
  {
   "cell_type": "code",
   "execution_count": 69,
   "metadata": {},
   "outputs": [
    {
     "name": "stdout",
     "output_type": "stream",
     "text": [
      "<class 'pandas.core.frame.DataFrame'>\n",
      "RangeIndex: 73856 entries, 0 to 73855\n",
      "Data columns (total 8 columns):\n",
      " #   Column           Non-Null Count  Dtype  \n",
      "---  ------           --------------  -----  \n",
      " 0   movie_id         73856 non-null  object \n",
      " 1   primary_title    73856 non-null  object \n",
      " 2   original_title   73856 non-null  object \n",
      " 3   start_year       73856 non-null  int64  \n",
      " 4   runtime_minutes  66236 non-null  float64\n",
      " 5   genres           73052 non-null  object \n",
      " 6   averagerating    73856 non-null  float64\n",
      " 7   numvotes         73856 non-null  int64  \n",
      "dtypes: float64(2), int64(2), object(4)\n",
      "memory usage: 4.5+ MB\n"
     ]
    }
   ],
   "source": [
    "df.info()"
   ]
  },
  {
   "cell_type": "markdown",
   "metadata": {},
   "source": [
    "We see that majority of our columns do  ot constitute missing values. As for the data types we see that each column is of the desired data type based on the nature of values they have."
   ]
  },
  {
   "cell_type": "code",
   "execution_count": 70,
   "metadata": {},
   "outputs": [
    {
     "data": {
      "text/html": [
       "<div>\n",
       "<style scoped>\n",
       "    .dataframe tbody tr th:only-of-type {\n",
       "        vertical-align: middle;\n",
       "    }\n",
       "\n",
       "    .dataframe tbody tr th {\n",
       "        vertical-align: top;\n",
       "    }\n",
       "\n",
       "    .dataframe thead th {\n",
       "        text-align: right;\n",
       "    }\n",
       "</style>\n",
       "<table border=\"1\" class=\"dataframe\">\n",
       "  <thead>\n",
       "    <tr style=\"text-align: right;\">\n",
       "      <th></th>\n",
       "      <th>start_year</th>\n",
       "      <th>runtime_minutes</th>\n",
       "      <th>averagerating</th>\n",
       "      <th>numvotes</th>\n",
       "    </tr>\n",
       "  </thead>\n",
       "  <tbody>\n",
       "    <tr>\n",
       "      <th>count</th>\n",
       "      <td>73856.000000</td>\n",
       "      <td>66236.000000</td>\n",
       "      <td>73856.000000</td>\n",
       "      <td>7.385600e+04</td>\n",
       "    </tr>\n",
       "    <tr>\n",
       "      <th>mean</th>\n",
       "      <td>2014.276132</td>\n",
       "      <td>94.654040</td>\n",
       "      <td>6.332729</td>\n",
       "      <td>3.523662e+03</td>\n",
       "    </tr>\n",
       "    <tr>\n",
       "      <th>std</th>\n",
       "      <td>2.614807</td>\n",
       "      <td>208.574111</td>\n",
       "      <td>1.474978</td>\n",
       "      <td>3.029402e+04</td>\n",
       "    </tr>\n",
       "    <tr>\n",
       "      <th>min</th>\n",
       "      <td>2010.000000</td>\n",
       "      <td>3.000000</td>\n",
       "      <td>1.000000</td>\n",
       "      <td>5.000000e+00</td>\n",
       "    </tr>\n",
       "    <tr>\n",
       "      <th>25%</th>\n",
       "      <td>2012.000000</td>\n",
       "      <td>81.000000</td>\n",
       "      <td>5.500000</td>\n",
       "      <td>1.400000e+01</td>\n",
       "    </tr>\n",
       "    <tr>\n",
       "      <th>50%</th>\n",
       "      <td>2014.000000</td>\n",
       "      <td>91.000000</td>\n",
       "      <td>6.500000</td>\n",
       "      <td>4.900000e+01</td>\n",
       "    </tr>\n",
       "    <tr>\n",
       "      <th>75%</th>\n",
       "      <td>2016.000000</td>\n",
       "      <td>104.000000</td>\n",
       "      <td>7.400000</td>\n",
       "      <td>2.820000e+02</td>\n",
       "    </tr>\n",
       "    <tr>\n",
       "      <th>max</th>\n",
       "      <td>2019.000000</td>\n",
       "      <td>51420.000000</td>\n",
       "      <td>10.000000</td>\n",
       "      <td>1.841066e+06</td>\n",
       "    </tr>\n",
       "  </tbody>\n",
       "</table>\n",
       "</div>"
      ],
      "text/plain": [
       "         start_year  runtime_minutes  averagerating      numvotes\n",
       "count  73856.000000     66236.000000   73856.000000  7.385600e+04\n",
       "mean    2014.276132        94.654040       6.332729  3.523662e+03\n",
       "std        2.614807       208.574111       1.474978  3.029402e+04\n",
       "min     2010.000000         3.000000       1.000000  5.000000e+00\n",
       "25%     2012.000000        81.000000       5.500000  1.400000e+01\n",
       "50%     2014.000000        91.000000       6.500000  4.900000e+01\n",
       "75%     2016.000000       104.000000       7.400000  2.820000e+02\n",
       "max     2019.000000     51420.000000      10.000000  1.841066e+06"
      ]
     },
     "execution_count": 70,
     "metadata": {},
     "output_type": "execute_result"
    }
   ],
   "source": [
    "#checking the summary statistics of the numerical values\n",
    "df.describe()"
   ]
  },
  {
   "cell_type": "markdown",
   "metadata": {},
   "source": [
    "**Analysis of movie duration, ratings, and number of votes.**\n",
    "\n",
    "The results displayed provide summary statistics for various attributes related to the movies in our dataset.\n",
    "\n",
    "1. count: This row shows the number of movies for which we have valid data for each attribute. For example, we have runtime_minutes data for 7,385 movies and averageRating data for 6,623 movies.\n",
    "\n",
    "2. mean: This row displays the average or mean value for each attribute. On average, the movies in our dataset were released in 2014, have a runtime of approximately 95 minutes, an average rating of 6.33, and received around 93,523 votes.\n",
    "\n",
    "3. std: This row shows the standard deviation, which measures the spread or dispersion of the data from the mean. For instance, the standard deviation of runtime_minutes is 208.57, indicating a relatively large variation in movie durations.\n",
    "\n",
    "4. min: This row displays the minimum value for each attribute. The earliest release year in our dataset is 2010, the shortest movie runtime is 3 minutes, the lowest average rating is 1.0, and the movie with the fewest votes received only 5 votes.\n",
    "\n",
    "5. 25%, 50% (median), and 75%: These rows represent the 25th, 50th (median), and 75th percentiles of the data, respectively. For example, 50% of the movies in our dataset have a runtime of 91 minutes or less, and 25% have an average rating of 5.5 or lower.\n",
    "\n",
    "6. max: This row shows the maximum value for each attribute. The latest release year is 2019, the longest movie runtime is 51,420 minutes (approximately 35 days!), the highest average rating is 10.0, and the most popular movie received over 1.8 million votes.\n",
    "\n",
    "These summary statistics provide valuable insights into the distribution and range of values for our key movie attributes, which can inform our subsequent analyses and help identify potential outliers or interesting patterns."
   ]
  },
  {
   "cell_type": "code",
   "execution_count": 71,
   "metadata": {},
   "outputs": [],
   "source": [
    "#Checking for outliers\n",
    "import pandas as pd\n",
    "\n",
    "def detect_outliers(df):\n",
    "    outliers = {}\n",
    "    \n",
    "    for column in df.columns:\n",
    "        if df[column].dtype in ['int64', 'float64']:  # Only apply to numeric columns\n",
    "            Q1 = df[column].quantile(0.25)\n",
    "            Q3 = df[column].quantile(0.75)\n",
    "            IQR = Q3 - Q1\n",
    "            lower_bound = Q1 - 1.5 * IQR\n",
    "            upper_bound = Q3 + 1.5 * IQR\n",
    "\n",
    "            outliers[column] = df[(df[column] < lower_bound) | (df[column] > upper_bound)][column]\n",
    "    \n",
    "    return outliers"
   ]
  },
  {
   "cell_type": "code",
   "execution_count": 72,
   "metadata": {},
   "outputs": [
    {
     "name": "stdout",
     "output_type": "stream",
     "text": [
      "Outliers in column start_year:\n",
      "Series([], Name: start_year, dtype: int64)\n",
      "\n",
      "Outliers in column runtime_minutes:\n",
      "0        175.0\n",
      "9        180.0\n",
      "12       160.0\n",
      "20        44.0\n",
      "24        45.0\n",
      "         ...  \n",
      "73662     45.0\n",
      "73710    145.0\n",
      "73721    140.0\n",
      "73731    140.0\n",
      "73793     16.0\n",
      "Name: runtime_minutes, Length: 3588, dtype: float64\n",
      "\n",
      "Outliers in column averagerating:\n",
      "16       1.9\n",
      "321      2.3\n",
      "431      1.7\n",
      "513      2.2\n",
      "608      2.3\n",
      "        ... \n",
      "73722    2.2\n",
      "73729    1.4\n",
      "73747    2.1\n",
      "73778    2.5\n",
      "73839    2.6\n",
      "Name: averagerating, Length: 1172, dtype: float64\n",
      "\n",
      "Outliers in column numvotes:\n",
      "2         4517\n",
      "16        8248\n",
      "27        1053\n",
      "31       15378\n",
      "32        2328\n",
      "         ...  \n",
      "73388    19632\n",
      "73427      817\n",
      "73683     2220\n",
      "73730     1214\n",
      "73735      873\n",
      "Name: numvotes, Length: 11758, dtype: int64\n",
      "\n"
     ]
    }
   ],
   "source": [
    "outliers_dict = detect_outliers(df)\n",
    "\n",
    "# Display outliers for each column\n",
    "for column, outliers in outliers_dict.items():\n",
    "    print(f\"Outliers in column {column}:\\n{outliers}\\n\")"
   ]
  },
  {
   "cell_type": "markdown",
   "metadata": {},
   "source": [
    "**Summary from the outliers output:**\n",
    "**start_year:** \n",
    "\n",
    "No outliers detected.\n",
    "\n",
    "**runtime_minutes:** \n",
    "\n",
    "Many outliers, indicating a wide range of runtimes, with some movies being much shorter or longer than average.\n",
    "\n",
    "**averagerating:** \n",
    "\n",
    "Several outliers, showing a diverse range of ratings with some movies rated significantly lower or higher than average.\n",
    "\n",
    "**numvotes:** \n",
    "\n",
    "A large number of outliers, reflecting a high variability in the number of votes movies receive.\n",
    "\n",
    "These results indicate that while some columns (like start_year) have consistent values, others (like runtime_minutes, averagerating, and numvotes) exhibit significant variability, with many values lying outside the typical range. This variability can be important for further analysis and might suggest areas to investigate more closely, such as the factors contributing to extreme runtimes, ratings, or vote counts."
   ]
  },
  {
   "cell_type": "markdown",
   "metadata": {},
   "source": [
    "## DATA CLEANING AND PREPROCESSING ##"
   ]
  },
  {
   "cell_type": "markdown",
   "metadata": {},
   "source": [
    "**METHODOLOGY**\n",
    "1. Handling missing values: We can either drop of impute our null values\n",
    "2. Handling outliers: We determine the size of the outliers then decide whether to drop or keep them."
   ]
  },
  {
   "cell_type": "markdown",
   "metadata": {},
   "source": [
    "**STEP 1: HANDLING MISSING VALUES**\n",
    "\n",
    "We will address the missing values in the `runtime_minutes` column by imputing them with the mean values, rather than dropping the rows. For the missing values in the `genre` column, we will remove those rows since they account for only 1% of the dataset and, being a categorical variable, imputation is not a suitable option."
   ]
  },
  {
   "cell_type": "code",
   "execution_count": 73,
   "metadata": {},
   "outputs": [],
   "source": [
    "# Replace missing values with the median\n",
    "df['runtime_minutes'] = df['runtime_minutes'].fillna(df['runtime_minutes'].mean())"
   ]
  },
  {
   "cell_type": "code",
   "execution_count": 74,
   "metadata": {},
   "outputs": [],
   "source": [
    "#droping the missing values in genre column\n",
    "df.dropna(subset = ['genres'], inplace = True)"
   ]
  },
  {
   "cell_type": "code",
   "execution_count": 75,
   "metadata": {},
   "outputs": [
    {
     "data": {
      "text/plain": [
       "movie_id           0\n",
       "primary_title      0\n",
       "original_title     0\n",
       "start_year         0\n",
       "runtime_minutes    0\n",
       "genres             0\n",
       "averagerating      0\n",
       "numvotes           0\n",
       "dtype: int64"
      ]
     },
     "execution_count": 75,
     "metadata": {},
     "output_type": "execute_result"
    }
   ],
   "source": [
    "#checking for missing values after imputing and dropping null values\n",
    "df.isnull().sum()"
   ]
  },
  {
   "cell_type": "code",
   "execution_count": 76,
   "metadata": {},
   "outputs": [
    {
     "name": "stdout",
     "output_type": "stream",
     "text": [
      "Shape after handling missing values: (73052, 8)\n"
     ]
    }
   ],
   "source": [
    "print('Shape after handling missing values:',df.shape)"
   ]
  },
  {
   "cell_type": "markdown",
   "metadata": {},
   "source": [
    "We now do not have any missing values and our data shape has reduced number of rows from the rows dropped."
   ]
  },
  {
   "cell_type": "markdown",
   "metadata": {},
   "source": [
    "**HANDLING OUTLIERS**\n",
    "\n",
    "We will visualize the numerical columns that is the runtime_minutes, numvotes and averagerating to get a clear picture before we handle the outliers."
   ]
  },
  {
   "cell_type": "code",
   "execution_count": 77,
   "metadata": {},
   "outputs": [],
   "source": [
    "# A function to plot columns to visualize outliers\n",
    "def plot_outlier_boxplots(df, columns):\n",
    "    \"\"\"\n",
    "    Plots boxplots for specified columns to visualize outliers.\n",
    "\n",
    "    Parameters:\n",
    "    df (pd.DataFrame): The DataFrame containing the data.\n",
    "    columns (list): List of column names to plot boxplots for.\n",
    "    \"\"\"\n",
    "    for column in columns:\n",
    "        if column in df.columns:\n",
    "            plt.figure(figsize=(10, 6))\n",
    "            sns.boxplot(x=df[column])\n",
    "            plt.title(f'Boxplot of {column}')\n",
    "            plt.xlabel(column)\n",
    "            plt.show()\n",
    "        else:\n",
    "            print(f\"Column '{column}' does not exist in the DataFrame\")"
   ]
  },
  {
   "cell_type": "code",
   "execution_count": 78,
   "metadata": {},
   "outputs": [
    {
     "data": {
      "image/png": "[encoded data removed]",
      "text/plain": [
       "<Figure size 720x432 with 1 Axes>"
      ]
     },
     "metadata": {
      "needs_background": "light"
     },
     "output_type": "display_data"
    },
    {
     "data": {
      "image/png": "[encoded data removed]",
      "text/plain": [
       "<Figure size 720x432 with 1 Axes>"
      ]
     },
     "metadata": {
      "needs_background": "light"
     },
     "output_type": "display_data"
    },
    {
     "data": {
      "image/png": "[encoded data removed]",
      "text/plain": [
       "<Figure size 720x432 with 1 Axes>"
      ]
     },
     "metadata": {
      "needs_background": "light"
     },
     "output_type": "display_data"
    }
   ],
   "source": [
    "# calling on our function\n",
    "outlier_columns = ['runtime_minutes', 'averagerating', 'numvotes']\n",
    "plot_outlier_boxplots(df, outlier_columns)"
   ]
  },
  {
   "cell_type": "markdown",
   "metadata": {},
   "source": [
    "**Handling Outliers in runtime_minutes, averageRating, and numVotes columns**\n",
    "\n",
    "When dealing with outliers in our dataset, it's crucial to consider the nature of the data and the potential implications of removing or keeping these extreme values.\n",
    "Here's our approach for each column:\n",
    "\n",
    "1. **runtime_minutes:**\n",
    "\n",
    "    - Outliers in this column could represent extremely long or short movies, which might be valid data points.\n",
    "    - However, if there are clear data entry errors (e.g., a runtime of 51,420 minutes, which is approximately 35 days), we will remove or correct those outliers.\n",
    "\n",
    "    - Before removing any outliers, we will investigate the validity of the extreme values to ensure we don't discard genuine cases.\n",
    "\n",
    " 2. **averageRating:**\n",
    "\n",
    "   - Outliers in this column are less likely to be data entry errors, as movie ratings are typically constrained to a specific range (e.g., 1-10).\n",
    "   - Extreme ratings (very high or very low) could represent polarizing movies that received strong positive or negative reactions from viewers.\n",
    "   - We will retain the outliers in this column, as removing them might lead to a loss of valuable information about the distribution of movie ratings and potentially interesting cases.\n",
    "\n",
    " 3. **numVotes:**\n",
    "\n",
    "     - Outliers in this column could represent extremely popular or unpopular movies.\n",
    "     - Removing outliers with very high or very low vote counts could lead to a skewed representation of movie popularity and might not accurately reflect the true distribution of votes.\n",
    "\n",
    "    - We will keep the outliers in this column, unless there are clear data quality issues or outliers that are deemed invalid (e.g., a movie with a negative number of votes).\n",
    "\n",
    "By taking a this approach to handling outliers, we can preserve valuable information while ensuring the integrity of our analysis. We will carefully examine the outliers, remove or correct only those that are clearly erroneous or invalid, and consider alternative approaches (e.g., winsorizing or robust statistical methods) to mitigate the impact of extreme outliers while retaining the overall distribution of the data."
   ]
  },
  {
   "cell_type": "code",
   "execution_count": 79,
   "metadata": {},
   "outputs": [
    {
     "data": {
      "image/png": "[encoded data removed]",
      "text/plain": [
       "<Figure size 576x432 with 1 Axes>"
      ]
     },
     "metadata": {
      "needs_background": "light"
     },
     "output_type": "display_data"
    }
   ],
   "source": [
    "#Runtime before removing outlers\n",
    "\n",
    "# Create a figure and axis objects\n",
    "fig, ax = plt.subplots(figsize=(8, 6))\n",
    "\n",
    "# Plot the original runtime_minutes data\n",
    "ax.boxplot(df['runtime_minutes'], vert=False)\n",
    "\n",
    "# Set the title and axis labels\n",
    "ax.set_title('Distribution of Movie Runtimes (Before Handling Outliers)', fontsize=14)\n",
    "ax.set_xlabel('Runtime (minutes)', fontsize=12)\n",
    "\n",
    "# Rotate the x-axis labels for better visibility\n",
    "plt.xticks(rotation=45)\n",
    "\n",
    "# Adjust the layout and display the plot\n",
    "plt.tight_layout()\n",
    "plt.show()"
   ]
  },
  {
   "cell_type": "markdown",
   "metadata": {},
   "source": [
    "Removing outliers"
   ]
  },
  {
   "cell_type": "code",
   "execution_count": 80,
   "metadata": {},
   "outputs": [],
   "source": [
    "# Determine the lower and upper quantile limits for winsorization\n",
    "lower_limit = df['runtime_minutes'].quantile(0.01)  # 1st percentile\n",
    "upper_limit = df['runtime_minutes'].quantile(0.99)  # 99th percentile\n",
    "\n",
    "# Winsorize the runtime_minutes column\n",
    "df['runtime_minutes_winsorized'] = df['runtime_minutes'].clip(lower_limit, upper_limit)\n",
    "#df['runtime_minutes'] = df['runtime_minutes'].clip(lower_limit, upper_limit, inplace=True)"
   ]
  },
  {
   "cell_type": "code",
   "execution_count": 83,
   "metadata": {},
   "outputs": [
    {
     "data": {
      "image/png": "[encoded data removed]",
      "text/plain": [
       "<Figure size 576x432 with 1 Axes>"
      ]
     },
     "metadata": {
      "needs_background": "light"
     },
     "output_type": "display_data"
    }
   ],
   "source": [
    "import matplotlib.pyplot as plt\n",
    "\n",
    "# Create a figure and axis objects\n",
    "fig, ax = plt.subplots(figsize=(8, 6))\n",
    "\n",
    "# Plot the winsorized runtime_minutes data\n",
    "ax.boxplot(df['runtime_minutes_winsorized'], vert=False)\n",
    "\n",
    "# Set the title and axis labels\n",
    "ax.set_title('Distribution of Movie Runtimes (After Handling Outliers)', fontsize=14)\n",
    "ax.set_xlabel('Runtime (minutes)', fontsize=12)\n",
    "\n",
    "# Rotate the x-axis labels for better visibility\n",
    "plt.xticks(rotation=45)\n",
    "\n",
    "# Adjust the layout and display the plot\n",
    "plt.tight_layout()\n",
    "plt.show()"
   ]
  },
  {
   "cell_type": "code",
   "execution_count": 85,
   "metadata": {},
   "outputs": [
    {
     "data": {
      "text/plain": [
       "count    73052.000000\n",
       "mean        93.555665\n",
       "std         20.476484\n",
       "min         46.000000\n",
       "25%         83.000000\n",
       "50%         93.000000\n",
       "75%        102.000000\n",
       "max        160.000000\n",
       "Name: runtime_minutes_winsorized, dtype: float64"
      ]
     },
     "execution_count": 85,
     "metadata": {},
     "output_type": "execute_result"
    }
   ],
   "source": [
    "df['runtime_minutes_winsorized'].describe()"
   ]
  },
  {
   "cell_type": "markdown",
   "metadata": {},
   "source": [
    "Now that all the outliers are handled, we can move forward to analysis."
   ]
  },
  {
   "cell_type": "markdown",
   "metadata": {},
   "source": [
    "## DATA ANALYSIS ##"
   ]
  },
  {
   "cell_type": "markdown",
   "metadata": {},
   "source": [
    "**METHODOLOGY**\n",
    "1. **Feature Engineering:** \n",
    "\n",
    " Creating new features from existing variables\n",
    "\n",
    "2. **Univariate Analysis:**\n",
    "\n",
    "Analyzing individual variables\n",
    "Understanding the distribution of variables\n",
    "\n",
    "3. **Bivariate Analysis:**\n",
    "\n",
    "Exploring relationships between pairs of variables\n",
    "Calculating correlation coefficients\n",
    "Generating scatter plots and heat maps\n",
    "\n",
    "4. **Multivariate Analysis:**\n",
    "\n",
    "Analyzing relationships among multiple variables"
   ]
  },
  {
   "cell_type": "markdown",
   "metadata": {},
   "source": [
    "**STEP 1: FEATURE ENGINEERING**"
   ]
  },
  {
   "cell_type": "code",
   "execution_count": 86,
   "metadata": {},
   "outputs": [
    {
     "data": {
      "text/plain": [
       "Index(['movie_id', 'primary_title', 'original_title', 'start_year',\n",
       "       'runtime_minutes', 'genres', 'averagerating', 'numvotes',\n",
       "       'runtime_minutes_winsorized'],\n",
       "      dtype='object')"
      ]
     },
     "execution_count": 86,
     "metadata": {},
     "output_type": "execute_result"
    }
   ],
   "source": [
    "#Inspecting the columns we currenly have\n",
    "df.columns"
   ]
  },
  {
   "cell_type": "markdown",
   "metadata": {},
   "source": [
    "We will inspect the genre columns, to see how many unique values we have then we can map them to categories for easier analysis."
   ]
  },
  {
   "cell_type": "code",
   "execution_count": 88,
   "metadata": {},
   "outputs": [
    {
     "name": "stdout",
     "output_type": "stream",
     "text": [
      "Number of unique genres values 923\n",
      "All Unique genres ['Action,Crime,Drama' 'Biography,Drama' 'Drama' 'Comedy,Drama'\n",
      " 'Comedy,Drama,Fantasy' 'Horror,Thriller' 'Adventure,Animation,Comedy'\n",
      " 'History' 'Documentary' 'Animation,Drama,History' 'Drama,Mystery'\n",
      " 'Action,Animation,Comedy' 'Crime,Drama' 'Biography,Comedy,Drama'\n",
      " 'Action,Drama' 'Documentary,History' 'Sci-Fi' 'Comedy' 'Thriller'\n",
      " 'Adventure,Animation,Sci-Fi' 'Drama,Horror' 'Drama,Mystery,Thriller'\n",
      " 'Drama,Family' 'Adventure,Comedy,Romance' 'Adventure,Drama,Romance'\n",
      " 'Comedy,Crime,Drama' 'Biography' 'Horror' 'Adventure,Comedy,Drama'\n",
      " 'Drama,Sci-Fi,Thriller' 'Action' 'Comedy,Drama,Romance'\n",
      " 'Action,Adventure,Sci-Fi' 'Comedy,Family' 'Adventure' 'Drama,History,War'\n",
      " 'Action,Thriller' 'Comedy,Crime' 'Crime,Drama,Thriller'\n",
      " 'Action,Sci-Fi,Thriller' 'Fantasy' 'Drama,Mystery,Sci-Fi'\n",
      " 'Biography,Drama,History' 'Action,Comedy,Crime'\n",
      " 'Action,Adventure,Thriller' 'Horror,Mystery,Thriller'\n",
      " 'Action,Drama,Family' 'Comedy,Drama,Music' 'Drama,Fantasy,Horror'\n",
      " 'Drama,Romance,Sci-Fi' 'Drama,Thriller' 'Drama,Romance'\n",
      " 'Drama,Romance,War' 'Crime,Drama,Horror' 'Action,Comedy,Fantasy'\n",
      " 'Action,Adventure,Comedy' 'Action,Adventure,Animation'\n",
      " 'Action,Adventure,Fantasy' 'Comedy,Romance' 'Biography,Drama,Sport'\n",
      " 'Comedy,Drama,Sci-Fi' 'Adventure,Drama,Fantasy' 'Action,Crime,Thriller'\n",
      " 'Crime,Thriller' 'Adventure,Comedy,Western' 'Drama,Horror,Sci-Fi'\n",
      " 'Mystery,Thriller' 'Comedy,Horror' 'Musical' 'Adventure,Drama,Mystery'\n",
      " 'Drama,Fantasy' 'Fantasy,Horror,Thriller' 'Drama,Sport'\n",
      " 'Action,Adventure,Crime' 'Biography,Documentary,History'\n",
      " 'Drama,Music,Romance' 'Family,Sport' 'Adventure,Comedy'\n",
      " 'Action,Adventure,Drama' 'Adventure,Drama,History'\n",
      " 'Drama,History,Romance' 'Biography,Drama,Music' 'Adventure,Comedy,Family'\n",
      " 'Horror,Mystery,Romance' 'Action,Adventure,Horror' 'Animation,Family'\n",
      " 'Drama,Horror,Mystery' 'Drama,Fantasy,Romance'\n",
      " 'Biography,Documentary,Music' 'Animation,Family,Fantasy'\n",
      " 'Adventure,Comedy,Sci-Fi' 'Family,Fantasy' 'Horror,Mystery'\n",
      " 'Drama,Fantasy,Thriller' 'Documentary,Music' 'Comedy,Horror,Thriller'\n",
      " 'Action,Drama,Horror' 'Animation,Drama' 'Biography,Comedy,Crime'\n",
      " 'Drama,Mystery,War' 'Adventure,Comedy,Fantasy' 'Biography,Drama,Romance'\n",
      " 'Documentary,Drama' 'Biography,Crime,Drama' 'Action,Drama,Fantasy'\n",
      " 'Comedy,Family,Fantasy' 'Adventure,Animation,Family' 'Drama,Music'\n",
      " 'Adventure,Family,Fantasy' 'Drama,War' 'Adventure,Drama,Sci-Fi'\n",
      " 'Comedy,Music,Romance' 'Adventure,Family' 'Action,Horror,Thriller'\n",
      " 'Action,Biography,Crime' 'Crime,Drama,Romance' 'Animation,Comedy,Family'\n",
      " 'Comedy,Drama,War' 'Western' 'Comedy,Sci-Fi' 'Drama,Fantasy,Mystery'\n",
      " 'Adventure,Crime,Drama' 'Animation,Comedy,Crime' 'Sci-Fi,Thriller'\n",
      " 'Horror,Sci-Fi,Thriller' 'Action,Drama,Sport' 'Drama,Horror,Romance'\n",
      " 'Romance' 'Adventure,Horror,Thriller' 'Comedy,Crime,Mystery'\n",
      " 'Action,Animation,Drama' 'Mystery' 'Action,Crime,Horror'\n",
      " 'Adventure,Drama,Thriller' 'Comedy,Musical,Romance'\n",
      " 'Action,Drama,Thriller' 'Animation,Comedy,Fantasy'\n",
      " 'Horror,Mystery,Sci-Fi' 'Adventure,Drama,Horror'\n",
      " 'Animation,Comedy,Sci-Fi' 'Action,Horror,Sci-Fi'\n",
      " 'Adventure,Fantasy,Mystery' 'Drama,Sci-Fi' 'Mystery,Romance'\n",
      " 'Action,Adventure,Family' 'Comedy,Crime,Thriller'\n",
      " 'Action,Mystery,Thriller' 'Action,Drama,Sci-Fi' 'Crime,Documentary'\n",
      " 'Crime,Drama,History' 'Animation,Crime,Music' 'Action,Mystery,Sci-Fi'\n",
      " 'Adventure,Drama,Family' 'Drama,Fantasy,History' 'Drama,Musical,Romance'\n",
      " 'Biography,Drama,Thriller' 'Crime' 'Animation' 'Comedy,Horror,Sci-Fi'\n",
      " 'Action,Biography,Drama' 'Action,Comedy,Horror' 'Comedy,Fantasy'\n",
      " 'Action,Crime' 'Family' 'Adventure,Fantasy' 'Biography,Drama,Family'\n",
      " 'Adventure,Animation,Fantasy' 'Action,Adventure,History'\n",
      " 'Comedy,Drama,Family' 'Comedy,Documentary,Sport' 'Biography,Documentary'\n",
      " 'Documentary,History,War' 'Horror,Romance,Thriller'\n",
      " 'Crime,Documentary,Drama' 'Adventure,Drama' 'Documentary,Sport'\n",
      " 'Crime,Mystery,Thriller' 'Action,Fantasy,History' 'Sport'\n",
      " 'Comedy,Drama,Sport' 'Action,Comedy' 'Action,Fantasy,Western'\n",
      " 'Action,Comedy,Sci-Fi' 'Adventure,Horror,Sci-Fi' 'Fantasy,Horror,Mystery'\n",
      " 'Music' 'Comedy,Family,Thriller' 'Comedy,Thriller'\n",
      " 'Action,Fantasy,Horror' 'Action,Comedy,Romance' 'Action,Drama,Romance'\n",
      " 'Comedy,Drama,Mystery' 'Action,Family,Fantasy' 'Action,History'\n",
      " 'Biography,Drama,War' 'Documentary,War' 'Animation,Biography'\n",
      " 'Documentary,Drama,Sci-Fi' 'Action,Crime,Sci-Fi' 'Fantasy,Horror'\n",
      " 'Drama,History' 'Comedy,Horror,Musical' 'Action,Animation,Fantasy'\n",
      " 'Action,Fantasy,Thriller' 'Biography,Drama,Fantasy'\n",
      " 'Comedy,Fantasy,Horror' 'Action,Crime,Mystery' 'Drama,Horror,Thriller'\n",
      " 'Crime,Drama,Mystery' 'Crime,Horror,Thriller' 'Drama,Romance,Thriller'\n",
      " 'Action,Comedy,Documentary' 'Comedy,Documentary' 'Crime,Drama,Music'\n",
      " 'Biography,History' 'Drama,Music,Musical' 'Action,Sci-Fi'\n",
      " 'Action,Adventure' 'Action,Horror,Mystery' 'Documentary,Drama,History'\n",
      " 'Drama,Musical' 'Adventure,Comedy,Crime' 'Action,Drama,Western'\n",
      " 'Comedy,Musical' 'Crime,Sport,Thriller' 'Animation,Comedy,Drama'\n",
      " 'Adventure,Biography,Comedy' 'Adventure,Animation,Drama'\n",
      " 'Adventure,Animation' 'Family,Fantasy,Horror' 'Crime,Drama,Fantasy'\n",
      " 'Adventure,Biography' 'Action,Adventure,Western'\n",
      " 'Adventure,Biography,Drama' 'Animation,Comedy,Romance'\n",
      " 'Mystery,Sci-Fi,Thriller' 'Comedy,Drama,Horror' 'Documentary,Family,News'\n",
      " 'Comedy,Family,Romance' 'Adventure,Documentary' 'Adventure,Comedy,Music'\n",
      " 'Crime,Drama,War' 'Comedy,Western' 'Drama,Musical,War'\n",
      " 'Comedy,Drama,Musical' 'Animation,Crime,Drama' 'Drama,Mystery,Romance'\n",
      " 'Action,Romance,Sci-Fi' 'Crime,Documentary,History'\n",
      " 'Action,Drama,History' 'Horror,Sci-Fi' 'Documentary,History,Sport'\n",
      " 'Action,Comedy,Drama' 'Action,Fantasy,War' 'Comedy,Drama,History'\n",
      " 'Action,Drama,Mystery' 'Comedy,Sport' 'Comedy,Mystery'\n",
      " 'Drama,Thriller,Western' 'Action,Drama,War' 'Adventure,Comedy,Horror'\n",
      " 'Action,Comedy,Family' 'Comedy,Crime,Music' 'Comedy,Crime,Romance'\n",
      " 'Adventure,Drama,Sport' 'Comedy,Fantasy,Romance' 'Drama,Fantasy,Sci-Fi'\n",
      " 'Drama,Family,Fantasy' 'Sci-Fi,Western' 'Comedy,Music'\n",
      " 'Adventure,Biography,Documentary' 'Crime,Documentary,Music'\n",
      " 'Crime,Horror,Mystery' 'Adventure,Romance' 'Horror,Sport,Thriller'\n",
      " 'Comedy,Crime,History' 'Action,Adventure,Romance'\n",
      " 'Biography,Documentary,Sport' 'Horror,Music,Sci-Fi' 'Action,Drama,Music'\n",
      " 'Action,Adventure,Mystery' 'Comedy,History,War' 'Action,Fantasy,Sci-Fi'\n",
      " 'Adventure,Horror,Mystery' 'Animation,Horror' 'Adventure,Mystery,Romance'\n",
      " 'Romance,Thriller' 'Documentary,Family' 'Biography,Documentary,Drama'\n",
      " 'Animation,Comedy' 'Adventure,Sci-Fi' 'Comedy,Drama,Western'\n",
      " 'Comedy,Documentary,History' 'Action,Comedy,Thriller'\n",
      " 'Drama,Fantasy,Music' 'Action,Thriller,War' 'Drama,Thriller,War'\n",
      " 'Action,War' 'Biography,Comedy,History' 'Comedy,Family,Musical'\n",
      " 'Drama,Romance,Sport' 'Adventure,Mystery' 'Drama,Western'\n",
      " 'Animation,Sci-Fi' 'Romance,Sci-Fi,Thriller' 'Action,Adventure,Biography'\n",
      " 'Comedy,Family,Sport' 'Biography,Documentary,Fantasy'\n",
      " 'Comedy,Romance,Sci-Fi' 'Adventure,Fantasy,Horror'\n",
      " 'Adventure,Drama,Western' 'Comedy,Drama,Thriller' 'Comedy,Romance,Sport'\n",
      " 'History,Music' 'Documentary,Drama,Sport' 'Documentary,Drama,Music'\n",
      " 'Biography,Documentary,Romance' 'Documentary,History,Music'\n",
      " 'Biography,Crime,Documentary' 'Adventure,Crime,Thriller'\n",
      " 'Drama,Family,Sport' 'Drama,Family,Music' 'Documentary,News'\n",
      " 'Action,Horror' 'Horror,Romance' 'Documentary,Drama,News'\n",
      " 'Action,History,Thriller' 'Adventure,History' 'Adventure,Mystery,Sci-Fi'\n",
      " 'Biography,Comedy,Documentary' 'Drama,History,Thriller'\n",
      " 'Documentary,Drama,Family' 'Family,Fantasy,Romance'\n",
      " 'Comedy,Documentary,Music' 'Comedy,Fantasy,Music' 'Comedy,Family,Sci-Fi'\n",
      " 'Adventure,Documentary,News' 'Crime,Mystery,Sci-Fi' 'Comedy,Crime,Family'\n",
      " 'Family,Musical' 'Biography,Drama,Musical' 'Music,Romance'\n",
      " 'Fantasy,Mystery,Romance' 'Adventure,Crime,Documentary'\n",
      " 'Documentary,Family,Music' 'Animation,Documentary,News'\n",
      " 'Adventure,Documentary,Family' 'Biography,Documentary,Family'\n",
      " 'Adventure,Documentary,Music' 'Mystery,Thriller,Western'\n",
      " 'Comedy,Crime,Horror' 'Action,Animation,Horror' 'War'\n",
      " 'Adventure,Documentary,History' 'Animation,Biography,Comedy'\n",
      " 'Adventure,Horror' 'Adventure,Documentary,Drama'\n",
      " 'Comedy,Documentary,Drama' 'Animation,Documentary,Music'\n",
      " 'Documentary,History,News' 'Comedy,Sci-Fi,Thriller' 'Fantasy,Sci-Fi'\n",
      " 'Action,Biography,Comedy' 'Action,Adventure,Documentary'\n",
      " 'Comedy,Mystery,Romance' 'Biography,Comedy' 'Action,Animation'\n",
      " 'Thriller,Western' 'Adventure,Documentary,Sport' 'Documentary,Western'\n",
      " 'Action,Comedy,Western' 'Drama,Fantasy,Musical'\n",
      " 'Action,Biography,Documentary' 'Documentary,Horror' 'Drama,Family,Sci-Fi'\n",
      " 'Drama,Music,Sci-Fi' 'Documentary,History,Sci-Fi' 'Documentary,Thriller'\n",
      " 'Documentary,Romance' 'Comedy,Horror,Romance' 'Adventure,Drama,Music'\n",
      " 'Animation,Comedy,Mystery' 'Fantasy,Horror,Musical'\n",
      " 'Action,Sci-Fi,Western' 'Documentary,Drama,Reality-TV'\n",
      " 'Action,Documentary,Sport' 'Action,Fantasy' 'Fantasy,Thriller'\n",
      " 'Animation,Drama,Mystery' 'Documentary,Music,Musical' 'Thriller,War'\n",
      " 'Documentary,Mystery' 'Documentary,Reality-TV'\n",
      " 'Action,Documentary,History' 'Animation,Biography,Documentary'\n",
      " 'Biography,Documentary,Mystery' 'Crime,Drama,Sport'\n",
      " 'Drama,Music,Thriller' 'Action,Documentary,Family'\n",
      " 'Action,Documentary,War' 'Animation,Drama,Family'\n",
      " 'Documentary,Family,History' 'Action,Crime,Fantasy' 'Horror,Musical'\n",
      " 'Action,Documentary' 'Action,Crime,Romance' 'Documentary,Drama,Mystery'\n",
      " 'Adventure,Horror,Western' 'Comedy,Crime,Documentary' 'Musical,Romance'\n",
      " 'Animation,Documentary,Family' 'Crime,Documentary,Mystery'\n",
      " 'Comedy,Documentary,News' 'Drama,Family,Horror' 'Comedy,Romance,Thriller'\n",
      " 'Comedy,Horror,Mystery' 'Fantasy,Sci-Fi,Thriller'\n",
      " 'Adventure,Horror,Romance' 'Adventure,Comedy,Thriller'\n",
      " 'Documentary,Drama,War' 'Biography,Romance,War'\n",
      " 'Adventure,Comedy,Mystery' 'Comedy,Family,Music' 'Drama,Family,Thriller'\n",
      " 'Drama,Family,History' 'Action,Documentary,Drama' 'Fantasy,Horror,Sci-Fi'\n",
      " 'Fantasy,Romance' 'Drama,News,War' 'Crime,Documentary,News'\n",
      " 'Biography,Documentary,News' 'Animation,Biography,Drama'\n",
      " 'Biography,Documentary,War' 'Fantasy,Music' 'Action,Family,Sci-Fi'\n",
      " 'Drama,Family,Romance' 'Animation,Drama,Romance'\n",
      " 'Fantasy,History,Romance' 'Comedy,Mystery,Thriller'\n",
      " 'Action,Animation,Sci-Fi' 'Adventure,Comedy,Documentary' 'Family,Mystery'\n",
      " 'Action,Comedy,Sport' 'Action,Mystery' 'Action,Animation,Crime'\n",
      " 'Crime,Drama,Family' 'Documentary,Musical' 'Mystery,Romance,Thriller'\n",
      " 'Animation,Comedy,Musical' 'Animation,Drama,Fantasy' 'Animation,Music'\n",
      " 'Biography,Fantasy,Horror' 'Fantasy,Romance,Sci-Fi'\n",
      " 'Adventure,Crime,Family' 'Animation,Documentary' 'Drama,Horror,Music'\n",
      " 'Adventure,Family,Mystery' 'Comedy,History' 'Action,Romance,Thriller'\n",
      " 'Family,Romance' 'Adventure,Animation,Biography' 'Action,Fantasy,Mystery'\n",
      " 'Fantasy,Mystery,Thriller' 'Comedy,Crime,Sport' 'Action,Animation,Family'\n",
      " 'Animation,Musical' 'Action,Family' 'Animation,Fantasy,Horror'\n",
      " 'Documentary,Sci-Fi' 'Drama,Family,Musical'\n",
      " 'Adventure,Documentary,Mystery' 'Animation,Family,Musical'\n",
      " 'Biography,Drama,Horror' 'Drama,History,Musical' 'Drama,Music,War'\n",
      " 'Animation,Mystery,Sci-Fi' 'Fantasy,Romance,Thriller'\n",
      " 'Biography,Thriller' 'Crime,Mystery' 'Animation,Romance,Sci-Fi'\n",
      " 'Animation,Documentary,Drama' 'Documentary,Drama,Romance'\n",
      " 'Documentary,Music,Romance' 'Biography,Comedy,Music'\n",
      " 'Adventure,Animation,Documentary' 'Action,History,Horror'\n",
      " 'Documentary,Family,Sport' 'Animation,History,Musical'\n",
      " 'Comedy,Documentary,War' 'Adventure,Biography,History'\n",
      " 'Documentary,Music,War' 'Adventure,Fantasy,Sci-Fi' 'Action,Sport'\n",
      " 'Animation,Horror,Sci-Fi' 'Drama,Musical,Sci-Fi'\n",
      " 'Documentary,Family,Romance' 'Drama,Family,War' 'History,Horror,Thriller'\n",
      " 'Comedy,Music,Sci-Fi' 'Biography,Comedy,Family'\n",
      " 'Documentary,Family,Fantasy' 'Drama,Romance,Western'\n",
      " 'Animation,Horror,Thriller' 'Adventure,Fantasy,Musical'\n",
      " 'Comedy,Musical,War' 'Animation,Thriller' 'Crime,Romance,Thriller'\n",
      " 'Action,Western' 'Action,Thriller,Western' 'Comedy,Fantasy,Musical'\n",
      " 'Comedy,Fantasy,Sci-Fi' 'Drama,Fantasy,Western'\n",
      " 'Adventure,Mystery,Thriller' 'Documentary,Drama,Musical'\n",
      " 'Adventure,Comedy,History' 'Documentary,News,War'\n",
      " 'Documentary,Fantasy,Horror' 'Action,Comedy,Mystery'\n",
      " 'Drama,Family,Mystery' 'Drama,History,Sport'\n",
      " 'Animation,Crime,Documentary' 'Action,Romance' 'Comedy,Thriller,Western'\n",
      " 'Biography,Documentary,Musical' 'Action,Crime,Music'\n",
      " 'Fantasy,Mystery,Sci-Fi' 'Animation,Sport' 'Biography,Comedy,Romance'\n",
      " 'Documentary,History,Mystery' 'Action,Comedy,Musical'\n",
      " 'Animation,Drama,Thriller' 'Family,Fantasy,Sci-Fi' 'Action,Adventure,War'\n",
      " 'Comedy,War' 'Action,Musical' 'Adventure,Documentary,Western'\n",
      " 'Crime,Drama,Western' 'Drama,Musical,Thriller' 'Animation,Drama,Sci-Fi'\n",
      " 'Mystery,Sci-Fi' 'Animation,Fantasy' 'Comedy,Mystery,Sci-Fi'\n",
      " 'Action,Drama,News' 'Comedy,Documentary,Romance' 'Crime,Drama,Musical'\n",
      " 'Fantasy,Mystery' 'Crime,History,Thriller' 'Crime,Sci-Fi,Thriller'\n",
      " 'Comedy,Family,Western' 'Crime,Horror,Musical' 'Documentary,Drama,Horror'\n",
      " 'Action,Fantasy,Romance' 'Drama,History,Mystery' 'Fantasy,Music,Romance'\n",
      " 'Comedy,Documentary,Family' 'Animation,Comedy,Documentary'\n",
      " 'Action,Biography,History' 'Crime,Horror' 'Animation,Music,Romance'\n",
      " 'Animation,Documentary,War' 'Animation,Drama,War'\n",
      " 'Biography,History,Thriller' 'Action,Horror,Western'\n",
      " 'Action,Comedy,Music' 'Action,Family,Mystery' 'Adventure,Family,Western'\n",
      " 'History,Thriller,War' 'Documentary,History,Western'\n",
      " 'Adventure,History,Mystery' 'Adventure,Animation,History'\n",
      " 'Comedy,Fantasy,Thriller' 'Drama,Sport,Thriller' 'Action,Comedy,History'\n",
      " 'Action,Romance,Sport' 'Adventure,Drama,War' 'Documentary,Fantasy'\n",
      " 'Comedy,Horror,Sport' 'Family,Musical,Sport' 'Music,Mystery'\n",
      " 'Crime,Drama,Sci-Fi' 'Animation,History' 'Biography,Documentary,Sci-Fi'\n",
      " 'Action,Musical,Romance' 'Drama,History,Sci-Fi' 'Action,Romance,War'\n",
      " 'Animation,Family,Music' 'Horror,Music,Mystery'\n",
      " 'Documentary,Horror,Thriller' 'Adventure,Thriller'\n",
      " 'Adventure,Family,Musical' 'Biography,Comedy,Sci-Fi' 'Romance,Sport'\n",
      " 'Action,Crime,Musical' 'Documentary,Music,Sport' 'Adventure,Sport'\n",
      " 'Action,Crime,Documentary' 'Musical,Sci-Fi' 'Comedy,History,Mystery'\n",
      " 'Documentary,History,Horror' 'Documentary,Music,Mystery'\n",
      " 'Music,Mystery,Thriller' 'Fantasy,Musical,Sci-Fi'\n",
      " 'Animation,Sci-Fi,Thriller' 'Fantasy,Musical' 'Action,Crime,Sport'\n",
      " 'Crime,Mystery,Romance' 'Documentary,Fantasy,History'\n",
      " 'Crime,Fantasy,Mystery' 'Adventure,Documentary,Reality-TV'\n",
      " 'Adventure,Romance,Sport' 'Horror,Music,Thriller'\n",
      " 'Adventure,Family,Horror' 'Comedy,Musical,Sci-Fi'\n",
      " 'Adventure,Biography,Crime' 'Comedy,Music,Musical' 'Comedy,Horror,Music'\n",
      " 'Animation,Biography,History' 'Family,Mystery,Thriller'\n",
      " 'Drama,Game-Show,Thriller' 'Horror,War' 'Adventure,Comedy,Musical'\n",
      " 'Documentary,Drama,Western' 'News' 'Action,Music'\n",
      " 'Adventure,Family,Romance' 'Animation,Fantasy,Mystery'\n",
      " 'Fantasy,Horror,Music' 'Adventure,Sci-Fi,Thriller'\n",
      " 'Adventure,Documentary,Romance' 'Animation,War' 'Drama,History,Horror'\n",
      " 'Drama,Sci-Fi,Western' 'Biography,Crime,History' 'Animation,Horror,Music'\n",
      " 'Family,Thriller' 'Comedy,Documentary,Thriller' 'History,Horror'\n",
      " 'Crime,Documentary,Thriller' 'Adventure,Animation,Musical'\n",
      " 'Music,Musical' 'Adventure,Drama,Musical' 'Adventure,Family,Sci-Fi'\n",
      " 'Biography,Drama,News' 'Action,Adventure,Music'\n",
      " 'Documentary,History,Romance' 'Action,Crime,History'\n",
      " 'Family,Horror,Thriller' 'Documentary,Fantasy,Sci-Fi' 'Romance,War'\n",
      " 'Crime,Sci-Fi' 'Comedy,Family,Horror' 'Action,Sci-Fi,War'\n",
      " 'Documentary,Music,News' 'Action,Family,Romance'\n",
      " 'Biography,Documentary,Western' 'Animation,Drama,Horror'\n",
      " 'Horror,Romance,Sci-Fi' 'Family,Sci-Fi,Thriller' 'Action,History,Romance'\n",
      " 'Romance,Sci-Fi' 'Animation,Drama,Musical' 'Crime,Romance'\n",
      " 'Comedy,Documentary,Horror' 'Animation,Comedy,Music'\n",
      " 'Family,Fantasy,Western' 'Animation,History,Horror' 'Action,Horror,Sport'\n",
      " 'Musical,Romance,Thriller' 'Documentary,Mystery,News'\n",
      " 'Horror,Thriller,War' 'Crime,Music,Mystery' 'Drama,Horror,Western'\n",
      " 'Drama,Mystery,Western' 'Drama,Music,Mystery' 'Music,Musical,Romance'\n",
      " 'Crime,Family,Thriller' 'History,Sci-Fi' 'Mystery,Romance,Sci-Fi'\n",
      " 'Biography,History,Romance' 'Drama,History,News' 'Action,Sport,Thriller'\n",
      " 'Adventure,Crime,Western' 'Action,Animation,History'\n",
      " 'Documentary,News,Thriller' 'Drama,Sci-Fi,War' 'Drama,Horror,Musical'\n",
      " 'Documentary,History,Thriller' 'Documentary,Drama,Thriller'\n",
      " 'Action,Sport,War' 'Family,Music,Romance' 'Animation,Family,History'\n",
      " 'Crime,Western' 'Comedy,Documentary,Mystery' 'Biography,Music'\n",
      " 'Horror,Music' 'Adventure,Fantasy,Thriller' 'Crime,Fantasy,Horror'\n",
      " 'Family,Musical,Romance' 'Comedy,Documentary,Western'\n",
      " 'Mystery,News,Thriller' 'Comedy,Drama,News' 'Drama,History,Music'\n",
      " 'Comedy,Family,Mystery' 'Crime,Musical' 'Action,Horror,Romance'\n",
      " 'Comedy,News' 'Biography,History,Mystery' 'Documentary,Family,Western'\n",
      " 'Animation,Family,Sport' 'Action,Musical,Thriller'\n",
      " 'Biography,Drama,Mystery' 'Animation,Biography,Family'\n",
      " 'Biography,Comedy,Fantasy' 'Action,Family,Western'\n",
      " 'Horror,Thriller,Western' 'Biography,Family,Fantasy' 'Adventure,Music'\n",
      " 'Drama,News' 'Animation,Biography,Crime' 'Family,Fantasy,Musical'\n",
      " 'Documentary,Musical,Mystery' 'Adventure,Documentary,Fantasy'\n",
      " 'Drama,News,Thriller' 'Adventure,History,Romance'\n",
      " 'Comedy,Fantasy,Mystery' 'Musical,Thriller' 'Comedy,Documentary,Musical'\n",
      " 'Documentary,News,Romance' 'Crime,Fantasy,Thriller'\n",
      " 'Animation,Fantasy,Music' 'Documentary,Drama,Fantasy' 'Game-Show'\n",
      " 'Adventure,Fantasy,History' 'Biography,History,Music' 'Drama,War,Western'\n",
      " 'Biography,Crime,Thriller' 'Crime,Family' 'Adventure,Music,Sci-Fi'\n",
      " 'Crime,Music,Thriller' 'Biography,Family,Sport' 'Family,History,War'\n",
      " 'Action,Animation,Documentary' 'Documentary,History,Musical'\n",
      " 'Animation,Comedy,History' 'Crime,Family,Horror'\n",
      " 'Adventure,Fantasy,Romance' 'Comedy,Family,History' 'Biography,Horror'\n",
      " 'Action,History,War' 'Animation,Documentary,History'\n",
      " 'Documentary,Mystery,Thriller' 'Family,Sci-Fi' 'History,Romance'\n",
      " 'Adventure,Romance,Sci-Fi' 'Crime,Horror,Sci-Fi' 'Action,Drama,Musical'\n",
      " 'Action,Musical,Sci-Fi' 'Action,Romance,Western' 'Family,Horror,Romance'\n",
      " 'Fantasy,History,Mystery' 'Drama,History,Western'\n",
      " 'Biography,Documentary,Horror' 'Adventure,Crime,Romance'\n",
      " 'Comedy,Music,War' 'Crime,Musical,Thriller' 'Comedy,Crime,Fantasy'\n",
      " 'Documentary,Horror,News' 'Action,Biography' 'Crime,Documentary,Family'\n",
      " 'Biography,Family,History' 'Documentary,News,Reality-TV'\n",
      " 'Adventure,Western' 'Horror,Western' 'Crime,Horror,Romance'\n",
      " 'Action,Documentary,News' 'Documentary,Horror,Romance' 'Sport,Thriller'\n",
      " 'Comedy,Sport,Western' 'Comedy,Crime,Musical' 'Comedy,Sci-Fi,Western'\n",
      " 'Action,Biography,Thriller' 'Action,Documentary,Thriller'\n",
      " 'Crime,Drama,News' 'Animation,Fantasy,Sci-Fi' 'Crime,Documentary,War'\n",
      " 'Reality-TV' 'Action,Comedy,War' 'Comedy,Sci-Fi,Sport'\n",
      " 'Documentary,Family,War' 'Comedy,History,Horror' 'History,Western'\n",
      " 'Animation,Horror,Mystery' 'Adventure,Family,Sport' 'Biography,War'\n",
      " 'History,Romance,Western' 'Biography,Family' 'Musical,Mystery,Thriller'\n",
      " 'Animation,History,Music' 'Biography,Documentary,Thriller'\n",
      " 'Adventure,Biography,Family' 'Animation,Horror,Romance'\n",
      " 'History,Thriller' 'Action,Animation,Music' 'Animation,Comedy,Horror'\n",
      " 'Crime,Thriller,Western' 'Biography,Comedy,Horror' 'Adult,Horror'\n",
      " 'Documentary,Fantasy,Mystery' 'Drama,Sci-Fi,Sport'\n",
      " 'Documentary,Family,Mystery' 'Comedy,History,Music'\n",
      " 'Action,Mystery,Western' 'Family,Fantasy,Music'\n",
      " 'Documentary,Family,Musical' 'Animation,Romance' 'Drama,Mystery,News'\n",
      " 'Action,Animation,Sport' 'Adventure,Romance,Thriller'\n",
      " 'Drama,Family,Western' 'Adventure,Comedy,War'\n",
      " 'Action,Animation,Biography' 'Comedy,Horror,War'\n",
      " 'Animation,Mystery,Thriller' 'History,War' 'Drama,Music,News'\n",
      " 'Comedy,Documentary,Fantasy' 'Animation,Drama,Music'\n",
      " 'Horror,Musical,Romance' 'Family,Music' 'Documentary,Horror,Mystery'\n",
      " 'Drama,Family,News' 'Fantasy,Horror,Western'\n",
      " 'Adventure,Documentary,Sci-Fi' 'Fantasy,History,Music'\n",
      " 'Comedy,Documentary,Sci-Fi' 'Animation,Biography,Fantasy'\n",
      " 'Comedy,Romance,Western' 'Comedy,Horror,Western'\n",
      " 'History,Musical,Romance' 'Fantasy,Horror,Romance'\n",
      " 'Comedy,Musical,Western' 'Documentary,News,Sport' 'Adventure,News'\n",
      " 'Crime,Documentary,Romance' 'History,Horror,Mystery'\n",
      " 'Action,Documentary,Horror' 'History,Sci-Fi,Thriller'\n",
      " 'Adventure,Documentary,Musical' 'Comedy,Reality-TV'\n",
      " 'Family,Fantasy,Mystery' 'Documentary,History,Reality-TV'\n",
      " 'Animation,Drama,Sport' 'Biography,Drama,Western' 'Animation,Western'\n",
      " 'Adventure,Music,Romance' 'Adventure,Family,Music' 'Family,Mystery,Sport'\n",
      " 'Documentary,Sport,War' 'Animation,Fantasy,History'\n",
      " 'Comedy,Musical,Sport' 'Crime,Documentary,Fantasy' 'Action,Crime,Western'\n",
      " 'Adventure,Animation,Horror' 'Comedy,History,News'\n",
      " 'Comedy,Drama,Reality-TV' 'Family,Western' 'Documentary,Mystery,Sci-Fi'\n",
      " 'Animation,Crime,Thriller' 'Animation,Family,Sci-Fi'\n",
      " 'Biography,Thriller,Western' 'Drama,Musical,Western' 'Crime,History'\n",
      " 'Animation,Crime,Mystery' 'History,Romance,War' 'Action,Mystery,Romance'\n",
      " 'Adventure,Documentary,Horror' 'Drama,Fantasy,War' 'History,Sport'\n",
      " 'Biography,Sport' 'Horror,Sci-Fi,War' 'Comedy,History,Romance'\n",
      " 'Biography,Crime' 'Animation,Sci-Fi,War' 'Animation,Documentary,Mystery'\n",
      " 'Biography,Fantasy' 'Comedy,Crime,Sci-Fi' 'Action,Adventure,Sport'\n",
      " 'Biography,Musical' 'Romance,Western' 'Documentary,Sport,Thriller'\n",
      " 'History,Musical' 'Adventure,Crime' 'Comedy,History,Musical'\n",
      " 'Documentary,Music,Reality-TV' 'Crime,Documentary,Sport'\n",
      " 'Adventure,Crime,Horror' 'Biography,Romance' 'Action,Family,Thriller'\n",
      " 'Comedy,Sport,Thriller' 'Action,Adult,Comedy' 'Adventure,Fantasy,War'\n",
      " 'Biography,Documentary,Reality-TV' 'Animation,Family,Mystery'\n",
      " 'Biography,History,War' 'Animation,Fantasy,Romance'\n",
      " 'Comedy,History,Sport' 'Biography,Music,Romance' 'Comedy,Fantasy,Sport'\n",
      " 'Adventure,Musical' 'Romance,Thriller,War' 'Sci-Fi,War'\n",
      " 'Action,Adventure,Musical' 'Crime,Mystery,Western' 'Family,War'\n",
      " 'Adventure,Animation,Crime' 'History,Mystery,Thriller'\n",
      " 'Musical,Mystery,Sci-Fi' 'Crime,Music' 'Adventure,History,Sci-Fi'\n",
      " 'Musical,Romance,Western' 'Comedy,Music,Thriller' 'Drama,Short'\n",
      " 'Documentary,Family,Sci-Fi']\n"
     ]
    }
   ],
   "source": [
    "#Checking for unique values under the genre column\n",
    "total_unique_genres = df['genres'].nunique()\n",
    "genres_unique_values = df['genres'].unique()\n",
    "print('Number of unique genres values',total_unique_genres )\n",
    "print('All Unique genres',genres_unique_values)\n"
   ]
  },
  {
   "cell_type": "markdown",
   "metadata": {},
   "source": [
    "There are many unique values for te genre column. Since this column plays a key role in our analysis it will be a bit impossible to visualize all those values. We decided to create a new column genre_categories, this will allow us to map all the genres to existing genre categories."
   ]
  },
  {
   "cell_type": "code",
   "execution_count": 89,
   "metadata": {},
   "outputs": [],
   "source": [
    "# Define the broader genre categories\n",
    "genre_categories = {\n",
    "    'Action': ['Action', 'Adventure'],\n",
    "    'Comedy': ['Comedy'],\n",
    "    'Drama': ['Drama'],\n",
    "    'Romance': ['Romance'],\n",
    "    'Horror': ['Horror'],\n",
    "    'Sci-Fi': ['Sci-Fi'],\n",
    "    'Thriller': ['Thriller'],\n",
    "    'Documentary': ['Documentary'],\n",
    "    'Animation': ['Animation'],\n",
    "    'Family': ['Family'],\n",
    "    'History': ['History'],\n",
    "    'War': ['War'],\n",
    "    'Crime': ['Crime'],\n",
    "    'Biography': ['Biography'],\n",
    "    'Music': ['Music'],\n",
    "    'Western': ['Western'],\n",
    "    'Mystery': ['Mystery'],\n",
    "    'Fantasy': ['Fantasy'],\n",
    "    'Sport': ['Sport'],\n",
    "    'Musical': ['Musical'],\n",
    "    'Other': []\n",
    "}\n",
    "\n",
    "# Function to map unique genre values to broader categories\n",
    "def map_genres_to_categories(genres):\n",
    "    mapped_categories = []\n",
    "    for genre in genres.split(','):\n",
    "        for category, keywords in genre_categories.items():\n",
    "            if genre in keywords:\n",
    "                mapped_categories.append(category)\n",
    "                break\n",
    "        else:\n",
    "            mapped_categories.append('Other')\n",
    "    return mapped_categories\n",
    "\n",
    "# Create a new column with the mapped categories\n",
    "df['genre_categories'] = df['genres'].apply(map_genres_to_categories)"
   ]
  },
  {
   "cell_type": "markdown",
   "metadata": {},
   "source": [
    "Checking the categories created and their counts"
   ]
  },
  {
   "cell_type": "code",
   "execution_count": 92,
   "metadata": {},
   "outputs": [
    {
     "name": "stdout",
     "output_type": "stream",
     "text": [
      "Drama          30788\n",
      "Documentary    17753\n",
      "Comedy         17290\n",
      "Action         10805\n",
      "Thriller        8217\n",
      "Horror          7674\n",
      "Romance         6589\n",
      "Crime           4611\n",
      "Biography       3809\n",
      "Family          3412\n",
      "Mystery         3039\n",
      "History         2825\n",
      "Sci-Fi          2206\n",
      "Fantasy         2126\n",
      "Music           1968\n",
      "Animation       1743\n",
      "Sport           1179\n",
      "War              853\n",
      "Musical          721\n",
      "Other            602\n",
      "Western          280\n",
      "Name: genre_categories, dtype: int64\n"
     ]
    }
   ],
   "source": [
    "# Explode the 'genre_categories' column\n",
    "exploded = df.explode('genre_categories')\n",
    "\n",
    "# Count unique categories\n",
    "unique_categories = exploded['genre_categories'].value_counts()\n",
    "\n",
    "# Print unique categories\n",
    "print(unique_categories)"
   ]
  },
  {
   "cell_type": "markdown",
   "metadata": {},
   "source": [
    "**STEP 2: UNIVARIATE ANALYSIS**"
   ]
  },
  {
   "cell_type": "markdown",
   "metadata": {},
   "source": [
    "We visualize the genre categories to see the distribution."
   ]
  },
  {
   "cell_type": "code",
   "execution_count": 93,
   "metadata": {},
   "outputs": [
    {
     "data": {
      "image/png": "[encoded data removed]",
      "text/plain": [
       "<Figure size 864x432 with 1 Axes>"
      ]
     },
     "metadata": {
      "needs_background": "light"
     },
     "output_type": "display_data"
    }
   ],
   "source": [
    "\n",
    "\n",
    "# Get the category counts\n",
    "category_counts = exploded['genre_categories'].value_counts()\n",
    "\n",
    "# Create a bar plot\n",
    "category_counts.plot(kind='bar', figsize=(12, 6))\n",
    "plt.title('Genre Category Counts', fontsize=16)\n",
    "plt.xlabel('Category', fontsize=14)\n",
    "plt.ylabel('Count', fontsize=14)\n",
    "plt.xticks(rotation=45)\n",
    "plt.show()"
   ]
  },
  {
   "cell_type": "markdown",
   "metadata": {},
   "source": [
    "From the plot above, we see movies falling under the drama genre category are more as compared to those with western category."
   ]
  },
  {
   "cell_type": "code",
   "execution_count": 103,
   "metadata": {},
   "outputs": [
    {
     "data": {
      "image/png": "[encoded data removed]",
      "text/plain": [
       "<Figure size 864x432 with 1 Axes>"
      ]
     },
     "metadata": {
      "needs_background": "light"
     },
     "output_type": "display_data"
    }
   ],
   "source": [
    "# Get the per year counts and sort by index in descending order\n",
    "category_counts = exploded['start_year'].value_counts().sort_index(ascending=True)\n",
    "\n",
    "# Create a bar plot\n",
    "category_counts.plot(kind='bar', figsize=(12, 6))\n",
    "plt.title('Year Counts', fontsize=16)\n",
    "plt.xlabel('Year', fontsize=14)\n",
    "plt.ylabel('Count', fontsize=14)\n",
    "plt.xticks(rotation=45)\n",
    "plt.show()"
   ]
  },
  {
   "cell_type": "markdown",
   "metadata": {},
   "source": [
    "From the year count plot, we see a variations of the number of movies over the years. The year 2014 has the highest count as compared to 2019 which has the least count."
   ]
  },
  {
   "cell_type": "code",
   "execution_count": 95,
   "metadata": {},
   "outputs": [],
   "source": [
    "#We use functions to plot distribution in numerical values\n",
    "\n",
    "def plot_univariate_numerical(data, column):\n",
    "    plt.figure(figsize=(12, 6))\n",
    "    sns.histplot(data=data, x=column, bins=20, kde=True)\n",
    "    plt.title(f'Distribution of {column.capitalize()}')\n",
    "    plt.xlabel(column.capitalize())\n",
    "    plt.ylabel('Frequency')\n",
    "    plt.show()\n"
   ]
  },
  {
   "cell_type": "code",
   "execution_count": 96,
   "metadata": {},
   "outputs": [
    {
     "data": {
      "image/png": "[encoded data removed]",
      "text/plain": [
       "<Figure size 864x432 with 1 Axes>"
      ]
     },
     "metadata": {
      "needs_background": "light"
     },
     "output_type": "display_data"
    }
   ],
   "source": [
    "plot_univariate_numerical(df, 'averagerating')"
   ]
  },
  {
   "cell_type": "markdown",
   "metadata": {},
   "source": [
    "The distribution of movie ratings shows that most movies have ratings close to the average value. This indicates that a large number of movies tend to perform around the average rating.\n",
    "\n",
    "However, there are some movies with notably low ratings, which is expected as not all movies perform well. Conversely, there are also movies with very high ratings, likely reflecting their popularity and high performance."
   ]
  },
  {
   "cell_type": "code",
   "execution_count": 97,
   "metadata": {},
   "outputs": [
    {
     "data": {
      "image/png": "[encoded data removed]",
      "text/plain": [
       "<Figure size 864x432 with 1 Axes>"
      ]
     },
     "metadata": {
      "needs_background": "light"
     },
     "output_type": "display_data"
    }
   ],
   "source": [
    "plot_univariate_numerical(df, 'runtime_minutes_winsorized')"
   ]
  },
  {
   "cell_type": "markdown",
   "metadata": {},
   "source": [
    "The above plot indicates that there is a central tendency around a specific runtime duration, with most movies having durations clustered around this central value. The tapering tails on both sides of the curve suggest that fewer movies have short or long runtimes compared to the majority of movies in the dataset. This distribution pattern is typical for movie runtimes, where most films fall within a certain duration range."
   ]
  },
  {
   "cell_type": "code",
   "execution_count": 98,
   "metadata": {},
   "outputs": [
    {
     "data": {
      "image/png": "[encoded data removed]",
      "text/plain": [
       "<Figure size 864x432 with 1 Axes>"
      ]
     },
     "metadata": {
      "needs_background": "light"
     },
     "output_type": "display_data"
    }
   ],
   "source": [
    "plot_univariate_numerical(df, 'numvotes')"
   ]
  },
  {
   "cell_type": "markdown",
   "metadata": {},
   "source": [
    "The above plot shows that while a few movies are extremely popular and receive a very high number of votes, most movies tend to receive relatively few votes."
   ]
  }
 ],
 "metadata": {
  "kernelspec": {
   "display_name": "learn-env",
   "language": "python",
   "name": "python3"
  },
  "language_info": {
   "codemirror_mode": {
    "name": "ipython",
    "version": 3
   },
   "file_extension": ".py",
   "mimetype": "text/x-python",
   "name": "python",
   "nbconvert_exporter": "python",
   "pygments_lexer": "ipython3",
   "version": "3.8.5"
  }
 },
 "nbformat": 4,
 "nbformat_minor": 2
}
